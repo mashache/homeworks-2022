{
 "cells": [
  {
   "cell_type": "code",
   "execution_count": 3,
   "id": "801679d7",
   "metadata": {},
   "outputs": [],
   "source": [
    "import sqlite3"
   ]
  },
  {
   "cell_type": "code",
   "execution_count": 4,
   "id": "788428fd",
   "metadata": {},
   "outputs": [],
   "source": [
    "import pandas as pd"
   ]
  },
  {
   "cell_type": "code",
   "execution_count": 5,
   "id": "2575c5a5",
   "metadata": {},
   "outputs": [],
   "source": [
    "import csv"
   ]
  },
  {
   "cell_type": "code",
   "execution_count": 6,
   "id": "37c82e31",
   "metadata": {},
   "outputs": [],
   "source": [
    "import os"
   ]
  },
  {
   "cell_type": "code",
   "execution_count": 11,
   "id": "a073fb62",
   "metadata": {},
   "outputs": [],
   "source": [
    "### downloading files that I am going to work with from kaggle"
   ]
  },
  {
   "cell_type": "code",
   "execution_count": 9,
   "id": "16b16114",
   "metadata": {},
   "outputs": [],
   "source": [
    "os.environ['KAGGLE_USERNAME'] = \"mariacheremisinova\" # username from the json file\n",
    "os.environ['KAGGLE_KEY'] = \"501bad45b10c84cea842c726068b015e\" # key from the json file"
   ]
  },
  {
   "cell_type": "code",
   "execution_count": 8,
   "id": "b54f9072",
   "metadata": {},
   "outputs": [
    {
     "name": "stdout",
     "output_type": "stream",
     "text": [
      "Collecting kaggle\n",
      "  Downloading kaggle-1.5.12.tar.gz (58 kB)\n",
      "\u001b[2K     \u001b[90m━━━━━━━━━━━━━━━━━━━━━━━━━━━━━━━━━━━━━━━━\u001b[0m \u001b[32m59.0/59.0 kB\u001b[0m \u001b[31m2.2 MB/s\u001b[0m eta \u001b[36m0:00:00\u001b[0m\n",
      "\u001b[?25h  Preparing metadata (setup.py) ... \u001b[?25ldone\n",
      "\u001b[?25hRequirement already satisfied: six>=1.10 in /Users/mariaceremisinova/opt/anaconda3/lib/python3.9/site-packages (from kaggle) (1.16.0)\n",
      "Requirement already satisfied: certifi in /Users/mariaceremisinova/opt/anaconda3/lib/python3.9/site-packages (from kaggle) (2021.10.8)\n",
      "Requirement already satisfied: python-dateutil in /Users/mariaceremisinova/opt/anaconda3/lib/python3.9/site-packages (from kaggle) (2.8.2)\n",
      "Requirement already satisfied: requests in /Users/mariaceremisinova/opt/anaconda3/lib/python3.9/site-packages (from kaggle) (2.27.1)\n",
      "Requirement already satisfied: tqdm in /Users/mariaceremisinova/opt/anaconda3/lib/python3.9/site-packages (from kaggle) (4.64.0)\n",
      "Requirement already satisfied: python-slugify in /Users/mariaceremisinova/opt/anaconda3/lib/python3.9/site-packages (from kaggle) (5.0.2)\n",
      "Requirement already satisfied: urllib3 in /Users/mariaceremisinova/opt/anaconda3/lib/python3.9/site-packages (from kaggle) (1.26.9)\n",
      "Requirement already satisfied: text-unidecode>=1.3 in /Users/mariaceremisinova/opt/anaconda3/lib/python3.9/site-packages (from python-slugify->kaggle) (1.3)\n",
      "Requirement already satisfied: idna<4,>=2.5 in /Users/mariaceremisinova/opt/anaconda3/lib/python3.9/site-packages (from requests->kaggle) (3.3)\n",
      "Requirement already satisfied: charset-normalizer~=2.0.0 in /Users/mariaceremisinova/opt/anaconda3/lib/python3.9/site-packages (from requests->kaggle) (2.0.4)\n",
      "Building wheels for collected packages: kaggle\n",
      "  Building wheel for kaggle (setup.py) ... \u001b[?25ldone\n",
      "\u001b[?25h  Created wheel for kaggle: filename=kaggle-1.5.12-py3-none-any.whl size=73031 sha256=9298c3775ea4f2a2b91bf9c65fd220c15fc4f61953979ea60f25324753aaec3c\n",
      "  Stored in directory: /Users/mariaceremisinova/Library/Caches/pip/wheels/ac/b2/c3/fa4706d469b5879105991d1c8be9a3c2ef329ba9fe2ce5085e\n",
      "Successfully built kaggle\n",
      "Installing collected packages: kaggle\n",
      "Successfully installed kaggle-1.5.12\n",
      "\n",
      "\u001b[1m[\u001b[0m\u001b[34;49mnotice\u001b[0m\u001b[1;39;49m]\u001b[0m\u001b[39;49m A new release of pip available: \u001b[0m\u001b[31;49m22.2.2\u001b[0m\u001b[39;49m -> \u001b[0m\u001b[32;49m22.3\u001b[0m\n",
      "\u001b[1m[\u001b[0m\u001b[34;49mnotice\u001b[0m\u001b[1;39;49m]\u001b[0m\u001b[39;49m To update, run: \u001b[0m\u001b[32;49mpip install --upgrade pip\u001b[0m\n",
      "Note: you may need to restart the kernel to use updated packages.\n"
     ]
    }
   ],
   "source": [
    "#pip install kaggle"
   ]
  },
  {
   "cell_type": "code",
   "execution_count": 9,
   "id": "52e17aed",
   "metadata": {},
   "outputs": [
    {
     "name": "stdout",
     "output_type": "stream",
     "text": [
      "Downloading goodreadsbooks.zip to /Users/mariaceremisinova/hw2\n",
      "100%|████████████████████████████████████████| 622k/622k [00:00<00:00, 3.46MB/s]\n",
      "100%|████████████████████████████████████████| 622k/622k [00:00<00:00, 3.43MB/s]\n"
     ]
    }
   ],
   "source": [
    "! kaggle datasets download -d jealousleopard/goodreadsbooks"
   ]
  },
  {
   "cell_type": "code",
   "execution_count": 10,
   "id": "fb49f5de",
   "metadata": {},
   "outputs": [
    {
     "name": "stdout",
     "output_type": "stream",
     "text": [
      "Downloading goodreads-books.zip to /Users/mariaceremisinova/hw2\n",
      " 52%|███████████████████▌                  | 1.00M/1.94M [00:00<00:00, 5.27MB/s]\n",
      "100%|██████████████████████████████████████| 1.94M/1.94M [00:00<00:00, 8.54MB/s]\n"
     ]
    }
   ],
   "source": [
    "! kaggle datasets download -d brosen255/goodreads-books"
   ]
  },
  {
   "cell_type": "code",
   "execution_count": 131,
   "id": "a9cc8b48",
   "metadata": {},
   "outputs": [
    {
     "name": "stdout",
     "output_type": "stream",
     "text": [
      "Archive:  goodreadsbooks.zip\n",
      "  inflating: books.csv               \n",
      "Archive:  goodreads-books.zip\n",
      "  inflating: good_reads_final.csv    \n"
     ]
    }
   ],
   "source": [
    "! unzip goodreadsbooks.zip\n",
    "! unzip goodreads-books.zip"
   ]
  },
  {
   "cell_type": "code",
   "execution_count": 20,
   "id": "a2fc9d06",
   "metadata": {},
   "outputs": [],
   "source": [
    "### creating dataframes, clearing"
   ]
  },
  {
   "cell_type": "code",
   "execution_count": 7,
   "id": "f80444bc",
   "metadata": {},
   "outputs": [],
   "source": [
    "with open('good_reads_final.csv', 'r') as fd: #initial file contained errors, so I had to clean it first\n",
    "    file = fd.read()\n",
    "\n",
    "rows = file.split('\\n')\n",
    "#print(len(rows))\n",
    "for i, row in enumerate(rows):\n",
    "    if \"']\" in row:\n",
    "        del rows[i]\n",
    "\n",
    "#print(len(rows))\n",
    "with open('good_reads_final_cleared.csv', 'w') as fd:\n",
    "    fd.write('\\n'.join(rows))"
   ]
  },
  {
   "cell_type": "code",
   "execution_count": 8,
   "id": "cc2c7dbc",
   "metadata": {},
   "outputs": [],
   "source": [
    "df = pd.read_csv('good_reads_final_cleared.csv')#dataframe with author info"
   ]
  },
  {
   "cell_type": "code",
   "execution_count": 9,
   "id": "3c244156",
   "metadata": {},
   "outputs": [
    {
     "data": {
      "text/html": [
       "<div>\n",
       "<style scoped>\n",
       "    .dataframe tbody tr th:only-of-type {\n",
       "        vertical-align: middle;\n",
       "    }\n",
       "\n",
       "    .dataframe tbody tr th {\n",
       "        vertical-align: top;\n",
       "    }\n",
       "\n",
       "    .dataframe thead th {\n",
       "        text-align: right;\n",
       "    }\n",
       "</style>\n",
       "<table border=\"1\" class=\"dataframe\">\n",
       "  <thead>\n",
       "    <tr style=\"text-align: right;\">\n",
       "      <th></th>\n",
       "      <th>author_average_rating</th>\n",
       "      <th>author_gender</th>\n",
       "      <th>author_genres</th>\n",
       "      <th>author_id</th>\n",
       "      <th>author_name</th>\n",
       "      <th>author_page_url</th>\n",
       "      <th>author_rating_count</th>\n",
       "      <th>author_review_count</th>\n",
       "      <th>birthplace</th>\n",
       "      <th>book_average_rating</th>\n",
       "      <th>book_fullurl</th>\n",
       "      <th>book_id</th>\n",
       "      <th>book_title</th>\n",
       "      <th>genre_1</th>\n",
       "      <th>genre_2</th>\n",
       "      <th>num_ratings</th>\n",
       "      <th>num_reviews</th>\n",
       "      <th>pages</th>\n",
       "      <th>publish_date</th>\n",
       "      <th>score</th>\n",
       "    </tr>\n",
       "  </thead>\n",
       "  <tbody>\n",
       "    <tr>\n",
       "      <th>0</th>\n",
       "      <td>4.01</td>\n",
       "      <td>female</td>\n",
       "      <td>historical-fiction,</td>\n",
       "      <td>74489</td>\n",
       "      <td>Victoria Thompson\\n</td>\n",
       "      <td>/author/show/74489.Victoria_Thompson</td>\n",
       "      <td>74399</td>\n",
       "      <td>6268</td>\n",
       "      <td>United States\\n</td>\n",
       "      <td>4.02</td>\n",
       "      <td>https://www.goodreads.com/book/show/686717.Mur...</td>\n",
       "      <td>686717</td>\n",
       "      <td>\\n      Murder on St. Mark's Place\\n</td>\n",
       "      <td>Mystery</td>\n",
       "      <td>Historical</td>\n",
       "      <td>5260</td>\n",
       "      <td>375.0</td>\n",
       "      <td>277</td>\n",
       "      <td>2000</td>\n",
       "      <td>3230.0</td>\n",
       "    </tr>\n",
       "    <tr>\n",
       "      <th>1</th>\n",
       "      <td>4.15</td>\n",
       "      <td>male</td>\n",
       "      <td>literature-fiction,mystery-thrillers,</td>\n",
       "      <td>706255</td>\n",
       "      <td>Stieg Larsson\\n</td>\n",
       "      <td>/author/show/706255.Stieg_Larsson</td>\n",
       "      <td>3726435</td>\n",
       "      <td>142704</td>\n",
       "      <td>Sweden\\n</td>\n",
       "      <td>4.13</td>\n",
       "      <td>https://www.goodreads.com/book/show/2429135.Th...</td>\n",
       "      <td>2429135</td>\n",
       "      <td>\\n      The Girl with the Dragon Tattoo\\n</td>\n",
       "      <td>Fiction</td>\n",
       "      <td>Mystery</td>\n",
       "      <td>2229163</td>\n",
       "      <td>65227.0</td>\n",
       "      <td>465</td>\n",
       "      <td>August 2005</td>\n",
       "      <td>3062.0</td>\n",
       "    </tr>\n",
       "    <tr>\n",
       "      <th>2</th>\n",
       "      <td>4.00</td>\n",
       "      <td>female</td>\n",
       "      <td>romance,</td>\n",
       "      <td>5618190</td>\n",
       "      <td>Mimi Jean Pamfiloff\\n</td>\n",
       "      <td>/author/show/5618190.Mimi_Jean_Pamfiloff</td>\n",
       "      <td>76496</td>\n",
       "      <td>7975</td>\n",
       "      <td>United States\\n</td>\n",
       "      <td>3.99</td>\n",
       "      <td>https://www.goodreads.com/book/show/27833684-t...</td>\n",
       "      <td>27833684</td>\n",
       "      <td>\\n      Tailored for Trouble\\n</td>\n",
       "      <td>Romance</td>\n",
       "      <td>Contemporary</td>\n",
       "      <td>2151</td>\n",
       "      <td>391.0</td>\n",
       "      <td>354</td>\n",
       "      <td>2016</td>\n",
       "      <td>4585.0</td>\n",
       "    </tr>\n",
       "    <tr>\n",
       "      <th>3</th>\n",
       "      <td>3.88</td>\n",
       "      <td>male</td>\n",
       "      <td>fiction,memoir,</td>\n",
       "      <td>37871</td>\n",
       "      <td>José Donoso\\n</td>\n",
       "      <td>/author/show/37871.Jos_Donoso</td>\n",
       "      <td>5522</td>\n",
       "      <td>489</td>\n",
       "      <td>Chile\\n</td>\n",
       "      <td>4.14</td>\n",
       "      <td>https://www.goodreads.com/book/show/382975.The...</td>\n",
       "      <td>382975</td>\n",
       "      <td>\\n      The Obscene Bird of Night\\n</td>\n",
       "      <td>Fiction</td>\n",
       "      <td>Magical Realism</td>\n",
       "      <td>1844</td>\n",
       "      <td>173.0</td>\n",
       "      <td>438</td>\n",
       "      <td>1970</td>\n",
       "      <td>1533.0</td>\n",
       "    </tr>\n",
       "    <tr>\n",
       "      <th>4</th>\n",
       "      <td>4.10</td>\n",
       "      <td>female</td>\n",
       "      <td>young-adult,fantasy,</td>\n",
       "      <td>36122</td>\n",
       "      <td>Patricia C. Wrede\\n</td>\n",
       "      <td>/author/show/36122.Patricia_C_Wrede</td>\n",
       "      <td>291013</td>\n",
       "      <td>13453</td>\n",
       "      <td>United States\\n</td>\n",
       "      <td>4.01</td>\n",
       "      <td>https://www.goodreads.com/book/show/64207.Sorc...</td>\n",
       "      <td>64207</td>\n",
       "      <td>\\n      Sorcery &amp; Cecelia: or The Enchanted Ch...</td>\n",
       "      <td>Fantasy</td>\n",
       "      <td>Young Adult</td>\n",
       "      <td>17051</td>\n",
       "      <td>1890.0</td>\n",
       "      <td>326</td>\n",
       "      <td>April 15th 1988</td>\n",
       "      <td>2105.0</td>\n",
       "    </tr>\n",
       "  </tbody>\n",
       "</table>\n",
       "</div>"
      ],
      "text/plain": [
       "   author_average_rating author_gender                          author_genres  \\\n",
       "0                   4.01        female                    historical-fiction,   \n",
       "1                   4.15          male  literature-fiction,mystery-thrillers,   \n",
       "2                   4.00        female                               romance,   \n",
       "3                   3.88          male                        fiction,memoir,   \n",
       "4                   4.10        female                   young-adult,fantasy,   \n",
       "\n",
       "   author_id            author_name                           author_page_url  \\\n",
       "0      74489    Victoria Thompson\\n      /author/show/74489.Victoria_Thompson   \n",
       "1     706255        Stieg Larsson\\n         /author/show/706255.Stieg_Larsson   \n",
       "2    5618190  Mimi Jean Pamfiloff\\n  /author/show/5618190.Mimi_Jean_Pamfiloff   \n",
       "3      37871          José Donoso\\n             /author/show/37871.Jos_Donoso   \n",
       "4      36122    Patricia C. Wrede\\n       /author/show/36122.Patricia_C_Wrede   \n",
       "\n",
       "   author_rating_count  author_review_count            birthplace  \\\n",
       "0                74399                 6268   United States\\n       \n",
       "1              3726435               142704          Sweden\\n       \n",
       "2                76496                 7975     United States\\n     \n",
       "3                 5522                  489           Chile\\n       \n",
       "4               291013                13453   United States\\n       \n",
       "\n",
       "  book_average_rating                                       book_fullurl  \\\n",
       "0                4.02  https://www.goodreads.com/book/show/686717.Mur...   \n",
       "1                4.13  https://www.goodreads.com/book/show/2429135.Th...   \n",
       "2                3.99  https://www.goodreads.com/book/show/27833684-t...   \n",
       "3                4.14  https://www.goodreads.com/book/show/382975.The...   \n",
       "4                4.01  https://www.goodreads.com/book/show/64207.Sorc...   \n",
       "\n",
       "    book_id                                         book_title  genre_1  \\\n",
       "0    686717               \\n      Murder on St. Mark's Place\\n  Mystery   \n",
       "1   2429135          \\n      The Girl with the Dragon Tattoo\\n  Fiction   \n",
       "2  27833684                     \\n      Tailored for Trouble\\n  Romance   \n",
       "3    382975                \\n      The Obscene Bird of Night\\n  Fiction   \n",
       "4     64207  \\n      Sorcery & Cecelia: or The Enchanted Ch...  Fantasy   \n",
       "\n",
       "           genre_2  num_ratings  num_reviews pages     publish_date   score  \n",
       "0       Historical         5260        375.0   277             2000  3230.0  \n",
       "1          Mystery      2229163      65227.0   465      August 2005  3062.0  \n",
       "2     Contemporary         2151        391.0   354             2016  4585.0  \n",
       "3  Magical Realism         1844        173.0   438             1970  1533.0  \n",
       "4      Young Adult        17051       1890.0   326  April 15th 1988  2105.0  "
      ]
     },
     "execution_count": 9,
     "metadata": {},
     "output_type": "execute_result"
    }
   ],
   "source": [
    "df.head()"
   ]
  },
  {
   "cell_type": "code",
   "execution_count": 10,
   "id": "ecc3f92c",
   "metadata": {},
   "outputs": [],
   "source": [
    "df.book_id = df.book_id.astype(int)\n",
    "df.author_average_rating = df.author_average_rating.astype(float)"
   ]
  },
  {
   "cell_type": "code",
   "execution_count": 11,
   "id": "13bded97",
   "metadata": {},
   "outputs": [],
   "source": [
    "def clean(text):#clear data from \\n\n",
    "    if type(text) == str:\n",
    "        text = text.replace(\"\\n\", \"\")\n",
    "        text = text.strip()\n",
    "    return text"
   ]
  },
  {
   "cell_type": "code",
   "execution_count": 12,
   "id": "cd185a2b",
   "metadata": {},
   "outputs": [],
   "source": [
    "df[\"birthplace\"] = df[\"birthplace\"].apply(clean)\n",
    "#df.head()"
   ]
  },
  {
   "cell_type": "code",
   "execution_count": 74,
   "id": "eac55d82",
   "metadata": {},
   "outputs": [],
   "source": [
    "with open('books.csv', 'r') as fd:#the second file also wasnʼt perfect: I got error in these five rows\n",
    "    file = fd.read()\n",
    "\n",
    "rows = file.split('\\n')\n",
    "for i, row in enumerate(rows):\n",
    "    if set(row.split(',')) & set([\"12224\", \"16914\", \"22128\", \"34523\", \"34889\"]):\n",
    "        del rows[i]\n",
    "\n",
    "with open('books_cleared.csv', 'w') as fd:\n",
    "    fd.write('\\n'.join(rows))"
   ]
  },
  {
   "cell_type": "code",
   "execution_count": 75,
   "id": "fc42ab43",
   "metadata": {},
   "outputs": [],
   "source": [
    "df2 = pd.read_csv('books_cleared.csv')#dataframe with info about the book and edition"
   ]
  },
  {
   "cell_type": "code",
   "execution_count": 76,
   "id": "9396072e",
   "metadata": {},
   "outputs": [
    {
     "data": {
      "text/html": [
       "<div>\n",
       "<style scoped>\n",
       "    .dataframe tbody tr th:only-of-type {\n",
       "        vertical-align: middle;\n",
       "    }\n",
       "\n",
       "    .dataframe tbody tr th {\n",
       "        vertical-align: top;\n",
       "    }\n",
       "\n",
       "    .dataframe thead th {\n",
       "        text-align: right;\n",
       "    }\n",
       "</style>\n",
       "<table border=\"1\" class=\"dataframe\">\n",
       "  <thead>\n",
       "    <tr style=\"text-align: right;\">\n",
       "      <th></th>\n",
       "      <th>bookID</th>\n",
       "      <th>title</th>\n",
       "      <th>authors</th>\n",
       "      <th>average_rating</th>\n",
       "      <th>isbn</th>\n",
       "      <th>isbn13</th>\n",
       "      <th>language_code</th>\n",
       "      <th>num_pages</th>\n",
       "      <th>ratings_count</th>\n",
       "      <th>text_reviews_count</th>\n",
       "      <th>publication_date</th>\n",
       "      <th>publisher</th>\n",
       "    </tr>\n",
       "  </thead>\n",
       "  <tbody>\n",
       "    <tr>\n",
       "      <th>0</th>\n",
       "      <td>1</td>\n",
       "      <td>Harry Potter and the Half-Blood Prince (Harry ...</td>\n",
       "      <td>J.K. Rowling/Mary GrandPré</td>\n",
       "      <td>4.57</td>\n",
       "      <td>0439785960</td>\n",
       "      <td>9780439785969</td>\n",
       "      <td>eng</td>\n",
       "      <td>652</td>\n",
       "      <td>2095690</td>\n",
       "      <td>27591</td>\n",
       "      <td>9/16/2006</td>\n",
       "      <td>Scholastic Inc.</td>\n",
       "    </tr>\n",
       "    <tr>\n",
       "      <th>1</th>\n",
       "      <td>2</td>\n",
       "      <td>Harry Potter and the Order of the Phoenix (Har...</td>\n",
       "      <td>J.K. Rowling/Mary GrandPré</td>\n",
       "      <td>4.49</td>\n",
       "      <td>0439358078</td>\n",
       "      <td>9780439358071</td>\n",
       "      <td>eng</td>\n",
       "      <td>870</td>\n",
       "      <td>2153167</td>\n",
       "      <td>29221</td>\n",
       "      <td>9/1/2004</td>\n",
       "      <td>Scholastic Inc.</td>\n",
       "    </tr>\n",
       "    <tr>\n",
       "      <th>2</th>\n",
       "      <td>4</td>\n",
       "      <td>Harry Potter and the Chamber of Secrets (Harry...</td>\n",
       "      <td>J.K. Rowling</td>\n",
       "      <td>4.42</td>\n",
       "      <td>0439554896</td>\n",
       "      <td>9780439554893</td>\n",
       "      <td>eng</td>\n",
       "      <td>352</td>\n",
       "      <td>6333</td>\n",
       "      <td>244</td>\n",
       "      <td>11/1/2003</td>\n",
       "      <td>Scholastic</td>\n",
       "    </tr>\n",
       "    <tr>\n",
       "      <th>3</th>\n",
       "      <td>5</td>\n",
       "      <td>Harry Potter and the Prisoner of Azkaban (Harr...</td>\n",
       "      <td>J.K. Rowling/Mary GrandPré</td>\n",
       "      <td>4.56</td>\n",
       "      <td>043965548X</td>\n",
       "      <td>9780439655484</td>\n",
       "      <td>eng</td>\n",
       "      <td>435</td>\n",
       "      <td>2339585</td>\n",
       "      <td>36325</td>\n",
       "      <td>5/1/2004</td>\n",
       "      <td>Scholastic Inc.</td>\n",
       "    </tr>\n",
       "    <tr>\n",
       "      <th>4</th>\n",
       "      <td>8</td>\n",
       "      <td>Harry Potter Boxed Set  Books 1-5 (Harry Potte...</td>\n",
       "      <td>J.K. Rowling/Mary GrandPré</td>\n",
       "      <td>4.78</td>\n",
       "      <td>0439682584</td>\n",
       "      <td>9780439682589</td>\n",
       "      <td>eng</td>\n",
       "      <td>2690</td>\n",
       "      <td>41428</td>\n",
       "      <td>164</td>\n",
       "      <td>9/13/2004</td>\n",
       "      <td>Scholastic</td>\n",
       "    </tr>\n",
       "  </tbody>\n",
       "</table>\n",
       "</div>"
      ],
      "text/plain": [
       "   bookID                                              title  \\\n",
       "0       1  Harry Potter and the Half-Blood Prince (Harry ...   \n",
       "1       2  Harry Potter and the Order of the Phoenix (Har...   \n",
       "2       4  Harry Potter and the Chamber of Secrets (Harry...   \n",
       "3       5  Harry Potter and the Prisoner of Azkaban (Harr...   \n",
       "4       8  Harry Potter Boxed Set  Books 1-5 (Harry Potte...   \n",
       "\n",
       "                      authors  average_rating        isbn         isbn13  \\\n",
       "0  J.K. Rowling/Mary GrandPré            4.57  0439785960  9780439785969   \n",
       "1  J.K. Rowling/Mary GrandPré            4.49  0439358078  9780439358071   \n",
       "2                J.K. Rowling            4.42  0439554896  9780439554893   \n",
       "3  J.K. Rowling/Mary GrandPré            4.56  043965548X  9780439655484   \n",
       "4  J.K. Rowling/Mary GrandPré            4.78  0439682584  9780439682589   \n",
       "\n",
       "  language_code    num_pages  ratings_count  text_reviews_count  \\\n",
       "0           eng          652        2095690               27591   \n",
       "1           eng          870        2153167               29221   \n",
       "2           eng          352           6333                 244   \n",
       "3           eng          435        2339585               36325   \n",
       "4           eng         2690          41428                 164   \n",
       "\n",
       "  publication_date        publisher  \n",
       "0        9/16/2006  Scholastic Inc.  \n",
       "1         9/1/2004  Scholastic Inc.  \n",
       "2        11/1/2003       Scholastic  \n",
       "3         5/1/2004  Scholastic Inc.  \n",
       "4        9/13/2004       Scholastic  "
      ]
     },
     "execution_count": 76,
     "metadata": {},
     "output_type": "execute_result"
    }
   ],
   "source": [
    "df2.head()"
   ]
  },
  {
   "cell_type": "code",
   "execution_count": 236,
   "id": "bf3d8ffa",
   "metadata": {},
   "outputs": [],
   "source": [
    "###syntactic parsing using spacy"
   ]
  },
  {
   "cell_type": "code",
   "execution_count": 237,
   "id": "c57eba6f",
   "metadata": {},
   "outputs": [],
   "source": [
    "import spacy"
   ]
  },
  {
   "cell_type": "code",
   "execution_count": 238,
   "id": "2850803a",
   "metadata": {},
   "outputs": [],
   "source": [
    "nlp = spacy.load(\"en_core_web_sm\")"
   ]
  },
  {
   "cell_type": "code",
   "execution_count": 240,
   "id": "b142b4ed",
   "metadata": {},
   "outputs": [],
   "source": [
    "def punct(text): #function to get rid of punctuation\n",
    "    te = [re.sub('[^\\w\\s]','', text)]\n",
    "    return te"
   ]
  },
  {
   "cell_type": "code",
   "execution_count": 243,
   "id": "fe0a516e",
   "metadata": {},
   "outputs": [],
   "source": [
    "titles_list = df2['title'].tolist()\n",
    "titles_list = ' '.join(titles_list)\n",
    "titles_list = punct(titles_list)[0]\n",
    "#titles_list"
   ]
  },
  {
   "cell_type": "code",
   "execution_count": 251,
   "id": "c415bbe3",
   "metadata": {},
   "outputs": [],
   "source": [
    "tagged_titles = []"
   ]
  },
  {
   "cell_type": "code",
   "execution_count": 252,
   "id": "4a21d380",
   "metadata": {},
   "outputs": [],
   "source": [
    "d = nlp(titles_list) #я не придумала, как в этой работе это использовать, но удалять не стала\n",
    "for token in d:\n",
    "    tag = token.text + '_' + token.pos_\n",
    "    tagged_titles.append(tag)"
   ]
  },
  {
   "cell_type": "code",
   "execution_count": 255,
   "id": "9d09d342",
   "metadata": {},
   "outputs": [],
   "source": [
    "#tagged_titles"
   ]
  },
  {
   "cell_type": "code",
   "execution_count": 21,
   "id": "915ebdfe",
   "metadata": {},
   "outputs": [],
   "source": [
    "### creating database (with 3 tables: a) about the book; b) about the author; c) about the edition)"
   ]
  },
  {
   "cell_type": "code",
   "execution_count": 182,
   "id": "72b28a02",
   "metadata": {},
   "outputs": [],
   "source": [
    "con = sqlite3.connect(\"books.db\")\n",
    "c = con.cursor()"
   ]
  },
  {
   "cell_type": "code",
   "execution_count": 183,
   "id": "e2872bf3",
   "metadata": {},
   "outputs": [
    {
     "data": {
      "text/plain": [
       "<sqlite3.Cursor at 0x7fec7aee5960>"
      ]
     },
     "execution_count": 183,
     "metadata": {},
     "output_type": "execute_result"
    }
   ],
   "source": [
    "c.execute(\"DROP TABLE IF EXISTS book_info\")\n",
    "c.execute(\"CREATE TABLE IF NOT EXISTS book_info(bookID, title, authors, average_rating, isbn13, ratings_count, text_reviews_count)\")"
   ]
  },
  {
   "cell_type": "code",
   "execution_count": 184,
   "id": "54a8e68b",
   "metadata": {},
   "outputs": [],
   "source": [
    "for row in df2.itertuples():\n",
    "    c.execute('INSERT INTO book_info VALUES (?, ?, ?, ?, ?, ?, ?)', (row.bookID, row.title, row.authors, row.average_rating, row.isbn13, row.ratings_count, row.text_reviews_count))"
   ]
  },
  {
   "cell_type": "code",
   "execution_count": 185,
   "id": "e5f8a33d",
   "metadata": {},
   "outputs": [],
   "source": [
    "con.commit()"
   ]
  },
  {
   "cell_type": "code",
   "execution_count": 186,
   "id": "5d2d0772",
   "metadata": {},
   "outputs": [
    {
     "data": {
      "text/plain": [
       "<sqlite3.Cursor at 0x7fec7aee5960>"
      ]
     },
     "execution_count": 186,
     "metadata": {},
     "output_type": "execute_result"
    }
   ],
   "source": [
    "c.execute(\"DROP TABLE IF EXISTS author_info\")\n",
    "c.execute(\"CREATE TABLE IF NOT EXISTS author_info(authors, book_id, author_gender, birthplace, author_id, author_page_url, author_average_rating, author_rating_count, genre_1, genre_2, FOREIGN KEY (book_id) REFERENCES book_info(bookID))\")"
   ]
  },
  {
   "cell_type": "code",
   "execution_count": 187,
   "id": "bc42ce2d",
   "metadata": {},
   "outputs": [],
   "source": [
    "for row in df.itertuples():\n",
    "    c.execute(\"INSERT INTO author_info VALUES (?, ?, ?, ?, ?, ?, ?, ?, ?, ?)\", (row.author_name, row.book_id, row.author_gender, row.birthplace, row.author_id, row.author_page_url, row.author_average_rating, row.author_rating_count, row.genre_1, row.genre_2))"
   ]
  },
  {
   "cell_type": "code",
   "execution_count": 188,
   "id": "2969bff1",
   "metadata": {},
   "outputs": [],
   "source": [
    "con.commit()"
   ]
  },
  {
   "cell_type": "code",
   "execution_count": 189,
   "id": "56981601",
   "metadata": {},
   "outputs": [],
   "source": [
    "df3 = df2[[\"bookID\", \"language_code\", \"isbn\", \"  num_pages\", \"publication_date\", \"publisher\"]]"
   ]
  },
  {
   "cell_type": "code",
   "execution_count": 190,
   "id": "c53b982f",
   "metadata": {},
   "outputs": [
    {
     "data": {
      "text/plain": [
       "<sqlite3.Cursor at 0x7fec7aee5960>"
      ]
     },
     "execution_count": 190,
     "metadata": {},
     "output_type": "execute_result"
    }
   ],
   "source": [
    "c.execute(\"DROP TABLE IF EXISTS edition_info\")\n",
    "c.execute(\"CREATE TABLE IF NOT EXISTS edition_info(book_id,language_code,isbn,pages,publication_date,publisher, FOREIGN KEY (book_id) REFERENCES book_info(book_id))\")"
   ]
  },
  {
   "cell_type": "code",
   "execution_count": 191,
   "id": "4ac09f73",
   "metadata": {},
   "outputs": [],
   "source": [
    "for row in df3.itertuples():\n",
    "    c.execute(\"INSERT INTO edition_info VALUES (?, ?, ?, ?, ?, ?)\", (row.bookID, row.language_code, row.isbn, row[4], row.publication_date, row.publisher))"
   ]
  },
  {
   "cell_type": "code",
   "execution_count": 192,
   "id": "6e67eb18",
   "metadata": {},
   "outputs": [],
   "source": [
    "con.commit()"
   ]
  },
  {
   "cell_type": "code",
   "execution_count": 193,
   "id": "6d13a1f2",
   "metadata": {},
   "outputs": [],
   "source": [
    "con.close()"
   ]
  },
  {
   "cell_type": "code",
   "execution_count": 89,
   "id": "5df8fc4b",
   "metadata": {},
   "outputs": [],
   "source": [
    "### manipulations with database (creating new columns, applying functions, taking subsets etc. )"
   ]
  },
  {
   "cell_type": "code",
   "execution_count": 207,
   "id": "3ca97e3c",
   "metadata": {},
   "outputs": [],
   "source": [
    "con = sqlite3.connect(\"books.db\")\n",
    "c = con.cursor()"
   ]
  },
  {
   "cell_type": "code",
   "execution_count": 180,
   "id": "40582d8b",
   "metadata": {},
   "outputs": [],
   "source": [
    "author_gender = \"female\"\n",
    "average_rating = 4.4\n",
    "#1. selecting all female writers who have books with rating higher than 4.4"
   ]
  },
  {
   "cell_type": "code",
   "execution_count": 209,
   "id": "0df8017c",
   "metadata": {},
   "outputs": [],
   "source": [
    "female_writers_query = \"\"\"\n",
    "SELECT DISTINCT book_info.authors, title, average_rating\n",
    "FROM book_info \n",
    "    JOIN author_info ON book_info.bookID = author_info.book_id\n",
    "    JOIN edition_info ON book_info.bookID = edition_info.book_id\n",
    "WHERE author_gender = ? AND average_rating > ?\n",
    "ORDER BY average_rating DESC\n",
    "\"\"\""
   ]
  },
  {
   "cell_type": "code",
   "execution_count": 98,
   "id": "09c8d299",
   "metadata": {},
   "outputs": [
    {
     "data": {
      "text/plain": [
       "[('J.K. Rowling/Mary GrandPré',\n",
       "  'Harry Potter and the Half-Blood Prince (Harry Potter  #6)',\n",
       "  4.57),\n",
       " ('J.K. Rowling/Mary GrandPré',\n",
       "  'Harry Potter and the Prisoner of Azkaban (Harry Potter  #3)',\n",
       "  4.56),\n",
       " ('Jane Austen', 'The Complete Novels', 4.55),\n",
       " ('Hiromu Arakawa/Akira Watanabe',\n",
       "  'Fullmetal Alchemist  Vol. 1 (Fullmetal Alchemist  #1)',\n",
       "  4.5),\n",
       " ('J.K. Rowling/Mary GrandPré',\n",
       "  'Harry Potter and the Order of the Phoenix (Harry Potter  #5)',\n",
       "  4.49),\n",
       " ('Audre Lorde', 'Sister Outsider: Essays and Speeches', 4.49),\n",
       " ('Wisława Szymborska/Clare Cavanagh', 'Poems New and Collected', 4.43),\n",
       " ('Maya Angelou', 'The Complete Collected Poems', 4.42)]"
      ]
     },
     "execution_count": 98,
     "metadata": {},
     "output_type": "execute_result"
    }
   ],
   "source": [
    "c.execute(female_writers_query, (author_gender, average_rating))\n",
    "c.fetchall()"
   ]
  },
  {
   "cell_type": "code",
   "execution_count": 179,
   "id": "f501eb9f",
   "metadata": {},
   "outputs": [],
   "source": [
    "genre_1 = \"Nonfiction\"\n",
    "birthplace = \"United States\"\n",
    "pages = 600\n",
    "#2. selecting all non-fiction books written in US larger than 600 pages (showing author, title, num_pages and rating of the book)"
   ]
  },
  {
   "cell_type": "code",
   "execution_count": 99,
   "id": "7f20c92a",
   "metadata": {},
   "outputs": [],
   "source": [
    "long_USbooks_query = \"\"\"\n",
    "SELECT DISTINCT book_info.authors, title, pages, average_rating\n",
    "FROM book_info \n",
    "    JOIN author_info ON book_info.bookID = author_info.book_id\n",
    "    JOIN edition_info ON book_info.bookID = edition_info.book_id\n",
    "WHERE genre_1 = ? AND birthplace = ? AND pages > ?\n",
    "ORDER BY average_rating DESC\n",
    "\"\"\""
   ]
  },
  {
   "cell_type": "code",
   "execution_count": 100,
   "id": "82c546bd",
   "metadata": {},
   "outputs": [
    {
     "data": {
      "text/plain": [
       "[('David Simon', 'Homicide: A Year on the Killing Streets', 646, 4.38),\n",
       " ('Randy Shilts/William Greider',\n",
       "  'And the Band Played On: Politics  People  and the AIDS Epidemic',\n",
       "  656,\n",
       "  4.37),\n",
       " ('Norman Mailer', \"The Executioner's Song\", 1056, 4.06),\n",
       " ('Jared Diamond',\n",
       "  'Collapse: How Societies Choose to Fail or Succeed',\n",
       "  608,\n",
       "  3.93),\n",
       " ('Thomas L. Friedman',\n",
       "  'The World Is Flat: A Brief History of the Twenty-first Century',\n",
       "  616,\n",
       "  3.68)]"
      ]
     },
     "execution_count": 100,
     "metadata": {},
     "output_type": "execute_result"
    }
   ],
   "source": [
    "c.execute(long_USbooks_query, (genre_1, birthplace, pages))\n",
    "c.fetchall()"
   ]
  },
  {
   "cell_type": "code",
   "execution_count": 195,
   "id": "692c5f10",
   "metadata": {},
   "outputs": [
    {
     "data": {
      "text/plain": [
       "[(25,)]"
      ]
     },
     "execution_count": 195,
     "metadata": {},
     "output_type": "execute_result"
    }
   ],
   "source": [
    "#3. deleting the worst books ever\n",
    "c.execute(\"SELECT COUNT(title) FROM book_info WHERE average_rating < 1\")\n",
    "c.fetchall()"
   ]
  },
  {
   "cell_type": "code",
   "execution_count": 105,
   "id": "492fff38",
   "metadata": {},
   "outputs": [],
   "source": [
    "c.execute(\"DELETE FROM book_info WHERE average_rating < 1\")\n",
    "con.commit()"
   ]
  },
  {
   "cell_type": "code",
   "execution_count": 107,
   "id": "29cbd908",
   "metadata": {},
   "outputs": [
    {
     "data": {
      "text/plain": [
       "[(0,)]"
      ]
     },
     "execution_count": 107,
     "metadata": {},
     "output_type": "execute_result"
    }
   ],
   "source": [
    "#c.execute(\"SELECT COUNT(title) FROM book_info WHERE average_rating < 1\")\n",
    "#c.fetchall()"
   ]
  },
  {
   "cell_type": "code",
   "execution_count": 224,
   "id": "272a2566",
   "metadata": {},
   "outputs": [
    {
     "data": {
      "text/plain": [
       "[('Mystery, Historical',),\n",
       " ('Fiction, Mystery',),\n",
       " ('Romance, Contemporary',),\n",
       " ('Fiction, Magical Realism',),\n",
       " ('Fantasy, Young Adult',),\n",
       " ('Sequential Art, Sequential Art',),\n",
       " ('Young Adult, Romance',),\n",
       " ('Nonfiction, Science',),\n",
       " ('Paranormal, Horror',),\n",
       " ('Young Adult, Romance',),\n",
       " ('Fantasy, Young Adult',),\n",
       " ('Fantasy, Fantasy',),\n",
       " ('Romance, Romance',),\n",
       " ('Young Adult, Science Fiction',),\n",
       " ('Fiction, Classics',),\n",
       " ('Romance, Fantasy',),\n",
       " ('Romance, Academic',),\n",
       " ('Romance, Sports and Games',),\n",
       " ('Romance, War',),\n",
       " ('Romance, Contemporary',),\n",
       " ('Fantasy, Romance',),\n",
       " ('Romance, Contemporary',),\n",
       " ('Romance, Sociology',),\n",
       " ('Romance, Contemporary',),\n",
       " ('Romance, Contemporary',),\n",
       " ('Romance, Romance',),\n",
       " ('Romance, Contemporary',),\n",
       " ('Romance, New Adult',),\n",
       " ('Romance, War',),\n",
       " ('Romance, Romance',),\n",
       " ('Fantasy, Romance',),\n",
       " ('Romance, Contemporary',),\n",
       " ('Romance, Contemporary',),\n",
       " ('Romance, Fantasy',),\n",
       " ('Romance, Historical',),\n",
       " ('Romance, Contemporary',),\n",
       " ('Romance, Young Adult',),\n",
       " ('Romance, Erotica',),\n",
       " ('Romance, Contemporary',),\n",
       " ('Romance, Romance',),\n",
       " ('Romance, Mystery',),\n",
       " ('Romance, Science Fiction',),\n",
       " ('Romance, Fantasy',),\n",
       " ('Romance, Historical',),\n",
       " ('Romance, Romance',),\n",
       " ('Romance, Contemporary',),\n",
       " ('Romance, Fantasy',),\n",
       " ('Romance, Fantasy',),\n",
       " ('Romance, Contemporary',),\n",
       " ('Romance, Contemporary',),\n",
       " ('Romance, Romance',),\n",
       " ('Romance, Contemporary',),\n",
       " ('Romance, Contemporary',),\n",
       " ('Romance, Contemporary',),\n",
       " ('Romance, War',),\n",
       " ('Romance, War',),\n",
       " ('Romance, Romance',),\n",
       " ('Romance, Contemporary',),\n",
       " ('Romance, Romance',),\n",
       " ('Romance, Lgbt',),\n",
       " ('Romance, Science Fiction',),\n",
       " ('Romance, Adult Fiction',),\n",
       " ('Romance, Contemporary',),\n",
       " ('Romance, Sports and Games',),\n",
       " ('Romance, Mystery',),\n",
       " ('Romance, Disability',),\n",
       " ('Romance, Romance',),\n",
       " ('Romance, Erotica',),\n",
       " ('Romance, Erotica',),\n",
       " ('Romance, Romance',),\n",
       " ('Historical, Romance',),\n",
       " ('Romance, Contemporary',),\n",
       " ('Romance, War',),\n",
       " ('Romance, Romance',),\n",
       " ('Romance, Romance',),\n",
       " ('Romance, Romance',),\n",
       " ('Romance, Romance',),\n",
       " ('Young Adult, Science Fiction',),\n",
       " ('Science Fiction, Fiction',),\n",
       " ('Fantasy, Young Adult',),\n",
       " ('Science Fiction, Fiction',),\n",
       " ('Young Adult, Science Fiction',),\n",
       " ('Science Fiction, Science Fiction',),\n",
       " ('Fiction, Science Fiction',),\n",
       " ('Science Fiction, Fiction',),\n",
       " ('Science Fiction, Apocalyptic',),\n",
       " ('Science Fiction, Fiction',),\n",
       " ('Horror, Fiction',),\n",
       " ('Science Fiction, Fiction',),\n",
       " ('Fantasy, Fiction',),\n",
       " ('Science Fiction, Fiction',),\n",
       " ('Young Adult, Science Fiction',),\n",
       " ('Science Fiction, Fantasy',),\n",
       " ('Horror, Fiction',),\n",
       " ('Science Fiction, Fiction',),\n",
       " ('Science Fiction, Fiction',),\n",
       " ('Horror, Fiction',),\n",
       " ('Fiction, Science Fiction',),\n",
       " ('Science Fiction, Fiction',),\n",
       " ('Fiction, Science Fiction',),\n",
       " ('Fiction, Science Fiction',),\n",
       " ('Science Fiction, Fiction',),\n",
       " ('Classics, Philosophy',),\n",
       " ('Science Fiction, Young Adult',),\n",
       " ('Science Fiction, Fiction',),\n",
       " ('Young Adult, Science Fiction',),\n",
       " ('Science Fiction, Fiction',),\n",
       " ('Classics, Fiction',),\n",
       " ('Young Adult, Science Fiction',),\n",
       " ('Young Adult, Science Fiction',),\n",
       " ('Fiction, Classics',),\n",
       " ('Fiction, Science Fiction',),\n",
       " ('Science Fiction, Fiction',),\n",
       " ('Science Fiction, Fiction',),\n",
       " ('Fiction, Science Fiction',),\n",
       " ('Fiction, Science Fiction',),\n",
       " ('Young Adult, Romance',),\n",
       " ('Young Adult, Science Fiction',),\n",
       " ('Fiction, Science Fiction',),\n",
       " ('Young Adult, Fantasy',),\n",
       " ('Classics, Science Fiction',),\n",
       " ('Science Fiction, Fiction',),\n",
       " ('Horror, Fiction',),\n",
       " ('Fiction, Science Fiction',),\n",
       " ('Fiction, Science Fiction',),\n",
       " ('Young Adult, Fantasy',),\n",
       " ('Young Adult, Fantasy',),\n",
       " ('Fantasy, Fantasy',),\n",
       " ('Fantasy, Young Adult',),\n",
       " ('Classics, Fiction',),\n",
       " ('Mystery, Fiction',),\n",
       " ('Young Adult, Fantasy',),\n",
       " ('Paranormal, Young Adult',),\n",
       " ('Romance, Classics',),\n",
       " ('Fiction, Contemporary',),\n",
       " ('Fiction, Womens Fiction',),\n",
       " ('Classics, Fiction',),\n",
       " ('Autobiography, Nonfiction',),\n",
       " ('Historical, Fiction',),\n",
       " ('Classics, Fiction',),\n",
       " ('Classics, Fiction',),\n",
       " ('Science Fiction, Fiction',),\n",
       " ('Fiction, Historical',),\n",
       " ('Fiction, Historical',),\n",
       " ('Fantasy, Young Adult',),\n",
       " ('Fantasy, Young Adult',),\n",
       " ('Fiction, Science Fiction',),\n",
       " ('Young Adult, Fiction',),\n",
       " ('Nonfiction, Autobiography',),\n",
       " ('Fantasy, Fiction',),\n",
       " ('Fiction, Mystery',),\n",
       " ('Young Adult, Paranormal',),\n",
       " ('Young Adult, Paranormal',),\n",
       " ('Nonfiction, Autobiography',),\n",
       " ('Historical, Fiction',),\n",
       " ('Historical, Fiction',),\n",
       " ('Fiction, Horror',),\n",
       " ('Fiction, Contemporary',),\n",
       " ('Young Adult, Science Fiction',),\n",
       " ('Romance, Romance',),\n",
       " ('Romance, Fantasy',),\n",
       " ('Fantasy, Romance',),\n",
       " ('Young Adult, Romance',),\n",
       " ('Romance, Romance',),\n",
       " ('Womens Fiction, Fiction',),\n",
       " ('Romance, Romance',),\n",
       " ('New Adult, Romance',),\n",
       " ('Romance, Sports and Games',),\n",
       " ('Romance, Fantasy',),\n",
       " ('Romance, Young Adult',),\n",
       " ('Romance, Romance',),\n",
       " ('Romance, New Adult',),\n",
       " ('Romance, Romance',),\n",
       " ('Contemporary, Romance',),\n",
       " ('Romance, Womens Fiction',),\n",
       " ('Womens Fiction, Romance',),\n",
       " ('Mystery, Romance',),\n",
       " ('Young Adult, Science Fiction',),\n",
       " ('Romance, Romance',),\n",
       " ('Young Adult, Romance',),\n",
       " ('Fantasy, Young Adult',),\n",
       " ('Romance, Romance',),\n",
       " ('Young Adult, Science Fiction',),\n",
       " ('Romance, Young Adult',),\n",
       " ('Romance, Young Adult',),\n",
       " ('Historical, Romance',),\n",
       " ('Fiction, Historical',),\n",
       " ('Romance, New Adult',),\n",
       " ('Romance, Contemporary',),\n",
       " ('Romance, Fiction',),\n",
       " ('Young Adult, Fantasy',),\n",
       " ('Classics, Historical',),\n",
       " ('Romance, Romance',),\n",
       " ('Romance, New Adult',),\n",
       " ('Romance, Adult Fiction',),\n",
       " ('Romance, Fiction',),\n",
       " ('Young Adult, Science Fiction',),\n",
       " ('Science Fiction, Young Adult',),\n",
       " ('Young Adult, Contemporary',),\n",
       " ('Fantasy, Young Adult',),\n",
       " ('Science Fiction, Young Adult',),\n",
       " ('Young Adult, Contemporary',),\n",
       " ('Young Adult, Fantasy',),\n",
       " ('Young Adult, Fantasy',),\n",
       " ('Young Adult, Fantasy',),\n",
       " ('Fantasy, Young Adult',),\n",
       " ('Young Adult, Fantasy',),\n",
       " ('Young Adult, Fantasy',),\n",
       " ('Young Adult, Fantasy',),\n",
       " ('Young Adult, Science Fiction',),\n",
       " ('Historical, Fantasy',),\n",
       " ('Fantasy, Young Adult',),\n",
       " ('Young Adult, Science Fiction',),\n",
       " ('Fantasy, Young Adult',),\n",
       " ('Young Adult, Fantasy',),\n",
       " ('Young Adult, Mystery',),\n",
       " ('Science Fiction, Young Adult',),\n",
       " ('Young Adult, Fantasy',),\n",
       " ('Science Fiction, Young Adult',),\n",
       " ('Young Adult, Romance',),\n",
       " ('Young Adult, Fantasy',),\n",
       " ('Young Adult, Fantasy',),\n",
       " ('Young Adult, Science Fiction',),\n",
       " ('Romance, Fantasy',),\n",
       " ('Fantasy, Young Adult',),\n",
       " ('Young Adult, Fantasy',),\n",
       " ('Young Adult, Science Fiction',),\n",
       " ('Fantasy, Young Adult',),\n",
       " ('Young Adult, Fantasy',),\n",
       " ('Young Adult, Fantasy',),\n",
       " ('Young Adult, Science Fiction',),\n",
       " ('Young Adult, Science Fiction',),\n",
       " ('Young Adult, Science Fiction',),\n",
       " ('Fantasy, Young Adult',),\n",
       " ('Young Adult, Historical',),\n",
       " ('Young Adult, Fantasy',),\n",
       " ('Young Adult, Fantasy',),\n",
       " ('Fantasy, Young Adult',),\n",
       " ('Science Fiction, Young Adult',),\n",
       " ('Young Adult, Science Fiction',),\n",
       " ('Paranormal, Young Adult',),\n",
       " ('Fantasy, Young Adult',),\n",
       " ('Young Adult, Contemporary',),\n",
       " ('Science Fiction, Fantasy',),\n",
       " ('Young Adult, Fantasy',),\n",
       " ('Young Adult, Science Fiction',),\n",
       " ('Fantasy, Young Adult',),\n",
       " ('Fantasy, Young Adult',),\n",
       " ('Fantasy, Young Adult',),\n",
       " ('Young Adult, Romance',),\n",
       " ('Young Adult, Mystery',),\n",
       " ('Fantasy, Young Adult',),\n",
       " ('Young Adult, Fantasy',),\n",
       " ('Young Adult, Fantasy',),\n",
       " ('Fantasy, Young Adult',),\n",
       " ('Young Adult, Fantasy',),\n",
       " ('Fantasy, Young Adult',),\n",
       " ('Fantasy, Fantasy',),\n",
       " ('Young Adult, Science Fiction',),\n",
       " ('Young Adult, Science Fiction',),\n",
       " ('Science Fiction, Young Adult',),\n",
       " ('Science Fiction, Young Adult',),\n",
       " ('Young Adult, Paranormal',),\n",
       " ('Young Adult, Science Fiction',),\n",
       " ('Fantasy, Young Adult',),\n",
       " ('Young Adult, Horror',),\n",
       " ('Young Adult, Contemporary',),\n",
       " ('Horror, Young Adult',),\n",
       " ('Young Adult, Lgbt',),\n",
       " ('Fantasy, Young Adult',),\n",
       " ('Historical, Young Adult',),\n",
       " ('Fantasy, Young Adult',),\n",
       " ('Fantasy, Young Adult',),\n",
       " ('Fantasy, Science Fiction',),\n",
       " ('Young Adult, Contemporary',),\n",
       " ('Young Adult, Romance',),\n",
       " ('Young Adult, Contemporary',),\n",
       " ('Young Adult, Science Fiction',),\n",
       " ('Fantasy, Young Adult',),\n",
       " ('Fantasy, Young Adult',),\n",
       " ('Fantasy, Young Adult',),\n",
       " ('Young Adult, Mystery',),\n",
       " ('Fantasy, Young Adult',),\n",
       " ('Young Adult, Mystery',),\n",
       " ('Young Adult, Contemporary',),\n",
       " ('Fantasy, Young Adult',),\n",
       " ('Young Adult, Romance',),\n",
       " ('Young Adult, Contemporary',),\n",
       " ('Fantasy, Young Adult',),\n",
       " ('Young Adult, Contemporary',),\n",
       " ('Young Adult, Contemporary',),\n",
       " ('Young Adult, Fantasy',),\n",
       " ('Fantasy, Young Adult',),\n",
       " ('Young Adult, Mystery',),\n",
       " ('Fantasy, Young Adult',),\n",
       " ('Young Adult, Fantasy',),\n",
       " ('Young Adult, Contemporary',),\n",
       " ('Fantasy, Young Adult',),\n",
       " ('Fantasy, Young Adult',),\n",
       " ('Fantasy, Young Adult',),\n",
       " ('Young Adult, Fantasy',),\n",
       " ('Fantasy, Young Adult',),\n",
       " ('Young Adult, Mystery',),\n",
       " ('Young Adult, Science Fiction',),\n",
       " ('Young Adult, Contemporary',),\n",
       " ('Fantasy, Young Adult',),\n",
       " ('Fantasy, Young Adult',),\n",
       " ('Young Adult, Contemporary',),\n",
       " ('Fantasy, Young Adult',),\n",
       " ('Fantasy, Young Adult',),\n",
       " ('Fantasy, Young Adult',),\n",
       " ('Fantasy, Young Adult',),\n",
       " ('Romance, New Adult',),\n",
       " ('Young Adult, Young Adult',),\n",
       " ('Fiction, Mystery',),\n",
       " ('Fantasy, Young Adult',),\n",
       " ('Horror, Horror',),\n",
       " ('Fantasy, Young Adult',),\n",
       " ('Fantasy, Fantasy',),\n",
       " ('Paranormal, Horror',),\n",
       " ('Fantasy, Young Adult',),\n",
       " ('Fantasy, Fantasy',),\n",
       " ('Fantasy, Fantasy',),\n",
       " ('Fantasy, Fantasy',),\n",
       " ('Fantasy, Classics',),\n",
       " ('Fantasy, Romance',),\n",
       " ('Young Adult, Fantasy',),\n",
       " ('Young Adult, Romance',),\n",
       " ('Young Adult, Science Fiction',),\n",
       " ('Fantasy, Fantasy',),\n",
       " ('Young Adult, Fantasy',),\n",
       " ('Fantasy, Young Adult',),\n",
       " ('Young Adult, Contemporary',),\n",
       " ('Romance, Young Adult',),\n",
       " ('Fantasy, Young Adult',),\n",
       " ('Fantasy, Young Adult',),\n",
       " ('Fantasy, Young Adult',),\n",
       " ('Young Adult, Romance',),\n",
       " ('Romance, New Adult',),\n",
       " ('Fantasy, Young Adult',),\n",
       " ('Young Adult, Fantasy',),\n",
       " ('Young Adult, Fantasy',),\n",
       " ('Paranormal, Fantasy',),\n",
       " ('Fantasy, Horror',),\n",
       " ('Horror, Fiction',),\n",
       " ('Fantasy, Fantasy',),\n",
       " ('Paranormal, Fantasy',),\n",
       " ('Horror, Paranormal',),\n",
       " ('Fantasy, Paranormal',),\n",
       " ('Paranormal, Horror',),\n",
       " ('Fantasy, Science Fiction',),\n",
       " ('Paranormal, Fantasy',),\n",
       " ('Horror, Science Fiction',),\n",
       " ('Horror, Paranormal',),\n",
       " ('Fantasy, Romance',),\n",
       " ('Paranormal, Erotica',),\n",
       " ('Horror, Paranormal',),\n",
       " ('Fantasy, Romance',),\n",
       " ('Horror, Paranormal',),\n",
       " ('Paranormal, Fantasy',),\n",
       " ('Fantasy, Horror',),\n",
       " ('Fantasy, Romance',),\n",
       " ('Horror, Paranormal',),\n",
       " ('Romance, Fantasy',),\n",
       " ('Fantasy, Fantasy',),\n",
       " ('Horror, Paranormal',),\n",
       " ('Horror, Paranormal',),\n",
       " ('Paranormal, Fantasy',),\n",
       " ('Fantasy, Paranormal',),\n",
       " ('Horror, Paranormal',),\n",
       " ('Horror, Paranormal',),\n",
       " ('Fantasy, Horror',),\n",
       " ('Horror, Paranormal',),\n",
       " ('Romance, Paranormal',),\n",
       " ('Fantasy, Paranormal',),\n",
       " ('Paranormal, Fantasy',),\n",
       " ('Fantasy, Paranormal',),\n",
       " ('Horror, Fiction',),\n",
       " ('Horror, Paranormal',),\n",
       " ('Horror, Fiction',),\n",
       " ('Fantasy, Paranormal',),\n",
       " ('Horror, Paranormal',),\n",
       " ('Fantasy, Paranormal',),\n",
       " ('Paranormal, Fantasy',),\n",
       " ('Fantasy, Fantasy',),\n",
       " ('Paranormal, Fantasy',),\n",
       " ('Horror, Fantasy',),\n",
       " ('Fantasy, Fiction',),\n",
       " ('Paranormal, Romance',),\n",
       " ('Fantasy, Fantasy',),\n",
       " ('Paranormal, Horror',),\n",
       " ('Horror, Paranormal',),\n",
       " ('Fantasy, Horror',),\n",
       " ('Humor, Fiction',),\n",
       " ('Fantasy, Paranormal',),\n",
       " ('Paranormal, Romance',),\n",
       " ('Horror, Science Fiction',),\n",
       " ('Fantasy, Fantasy',),\n",
       " ('Horror, Paranormal',),\n",
       " ('Fantasy, Fiction',),\n",
       " ('Fantasy, Fantasy',),\n",
       " ('Romance, Fantasy',),\n",
       " ('Fantasy, Fantasy',),\n",
       " ('Horror, Classics',),\n",
       " ('Paranormal, Fantasy',),\n",
       " ('Fantasy, Paranormal',),\n",
       " ('Horror, Fiction',),\n",
       " ('Classics, Horror',),\n",
       " ('Fantasy, Childrens',),\n",
       " ('Historical, Young Adult',),\n",
       " ('Fiction, Historical',),\n",
       " ('Fiction, Womens Fiction',),\n",
       " ('History, Nonfiction',),\n",
       " ('Fantasy, Fantasy',),\n",
       " ('Young Adult, Horror',),\n",
       " ('Fiction, Mystery',),\n",
       " ('Autobiography, Nonfiction',),\n",
       " ('Historical, Fiction',),\n",
       " ('Fiction, Cultural',),\n",
       " ('Autobiography, Nonfiction',),\n",
       " ('Nonfiction, Womens Fiction',),\n",
       " ('Nonfiction, Biography',),\n",
       " ('Mystery, Thriller',),\n",
       " ('Womens Fiction, Fiction',),\n",
       " ('Fiction, Literature',),\n",
       " ('Historical, Historical',),\n",
       " ('Nonfiction, Humor',),\n",
       " ('Fiction, Contemporary',),\n",
       " ('Science Fiction, Young Adult',),\n",
       " ('Young Adult, Fantasy',),\n",
       " ('Fiction, Historical',),\n",
       " ('Historical, Fiction',),\n",
       " ('Fiction, Short Stories',),\n",
       " ('Fantasy, Young Adult',),\n",
       " ('Mystery, Fiction',),\n",
       " ('Mystery, Fiction',),\n",
       " ('Womens Fiction, Fiction',),\n",
       " ('Nonfiction, Psychology',),\n",
       " ('Humor, Fiction',),\n",
       " ('Fiction, Historical',),\n",
       " ('Mystery, Fiction',),\n",
       " ('Fiction, New York',),\n",
       " ('Nonfiction, Food and Drink',),\n",
       " ('Historical, Fiction',),\n",
       " ('Fantasy, Fantasy',),\n",
       " ('Womens Fiction, Fiction',),\n",
       " ('Fiction, Mystery',),\n",
       " ('Fiction, Historical',),\n",
       " ('Fiction, Short Stories',),\n",
       " ('Fantasy, Young Adult',),\n",
       " ('Contemporary, Fiction',),\n",
       " ('Childrens, Childrens',),\n",
       " ('Nonfiction, Animals',),\n",
       " ('Historical, Fiction',),\n",
       " ('Young Adult, Science Fiction',),\n",
       " ('Humor, Nonfiction',),\n",
       " ('Young Adult, Contemporary',),\n",
       " ('Historical, Fiction',),\n",
       " ('Fiction, Short Stories',),\n",
       " ('Fiction, Animals',),\n",
       " ('Fantasy, Young Adult',),\n",
       " ('Nonfiction, Autobiography',),\n",
       " ('Fiction, Romance',),\n",
       " ('Romance, Young Adult',),\n",
       " ('Young Adult, Contemporary',),\n",
       " ('Young Adult, Romance',),\n",
       " ('New Adult, Romance',),\n",
       " ('Young Adult, Romance',),\n",
       " ('Fiction, Novels',),\n",
       " ('Young Adult, Contemporary',),\n",
       " ('Romance, Romance',),\n",
       " ('Young Adult, Mystery',),\n",
       " ('Romance, Adult Fiction',),\n",
       " ('Romance, New Adult',),\n",
       " ('Young Adult, Contemporary',),\n",
       " ('Young Adult, Realistic Fiction',),\n",
       " ('Young Adult, Contemporary',),\n",
       " ('Young Adult, Contemporary',),\n",
       " ('Young Adult, Romance',),\n",
       " ('Young Adult, Romance',),\n",
       " ('Romance, Young Adult',),\n",
       " ('Romance, Romance',),\n",
       " ('Young Adult, Romance',),\n",
       " ('Romance, New Adult',),\n",
       " ('Romance, Contemporary',),\n",
       " ('Nonfiction, Autobiography',),\n",
       " ('Fiction, Historical',),\n",
       " ('Young Adult, Romance',),\n",
       " ('Contemporary, Romance',),\n",
       " ('Romance, Romance',),\n",
       " ('Romance, Romance',),\n",
       " ('Young Adult, Romance',),\n",
       " ('Young Adult, Romance',),\n",
       " ('Young Adult, Contemporary',),\n",
       " ('Fiction, Contemporary',),\n",
       " ('Romance, New Adult',),\n",
       " ('Romance, New Adult',),\n",
       " ('Young Adult, Romance',),\n",
       " ('Young Adult, Romance',),\n",
       " ('Romance, Fiction',),\n",
       " ('Young Adult, Romance',),\n",
       " ('Romance, New Adult',),\n",
       " ('Young Adult, Romance',),\n",
       " ('Young Adult, Contemporary',),\n",
       " ('Sequential Art, Sequential Art',),\n",
       " ('Sequential Art, Fantasy',),\n",
       " ('Sequential Art, Sequential Art',),\n",
       " ('Sequential Art, Sequential Art',),\n",
       " ('Humor, Nonfiction',),\n",
       " ('Sequential Art, Sequential Art',),\n",
       " ('Sequential Art, Sequential Art',),\n",
       " ('Sequential Art, Sequential Art',),\n",
       " ('Sequential Art, Sequential Art',),\n",
       " ('Sequential Art, Fantasy',),\n",
       " ('Sequential Art, Sequential Art',),\n",
       " ('Sequential Art, Sequential Art',),\n",
       " ('Sequential Art, Sequential Art',),\n",
       " ('Sequential Art, Sequential Art',),\n",
       " ('Sequential Art, Sequential Art',),\n",
       " ('Sequential Art, Sequential Art',),\n",
       " ('Sequential Art, Sequential Art',),\n",
       " ('Sequential Art, Sequential Art',),\n",
       " ('Sequential Art, Sequential Art',),\n",
       " ('Sequential Art, Sequential Art',),\n",
       " ('Sequential Art, Sequential Art',),\n",
       " ('Sequential Art, Sequential Art',),\n",
       " ('Sequential Art, Sequential Art',),\n",
       " ('Sequential Art, Sequential Art',),\n",
       " ('Sequential Art, Sequential Art',),\n",
       " ('Sequential Art, Fantasy',),\n",
       " ('Historical, Fiction',),\n",
       " ('Sequential Art, Sequential Art',),\n",
       " ('Sequential Art, Sequential Art',),\n",
       " ('Sequential Art, Sequential Art',),\n",
       " ('Sequential Art, Sequential Art',),\n",
       " ('Sequential Art, Autobiography',),\n",
       " ('Sequential Art, Sequential Art',),\n",
       " ('Sequential Art, Sequential Art',),\n",
       " ('Sequential Art, Sequential Art',),\n",
       " ('Sequential Art, Sequential Art',),\n",
       " ('Sequential Art, Sequential Art',),\n",
       " ('Sequential Art, Young Adult',),\n",
       " ('Sequential Art, Sequential Art',),\n",
       " ('Sequential Art, Sequential Art',),\n",
       " ('Sequential Art, Sequential Art',),\n",
       " ('Sequential Art, Sequential Art',),\n",
       " ('Sequential Art, Sequential Art',),\n",
       " ('Sequential Art, Sequential Art',),\n",
       " ('Sequential Art, Sequential Art',),\n",
       " ('Sequential Art, Sequential Art',),\n",
       " ('Sequential Art, Sequential Art',),\n",
       " ('Sequential Art, Sequential Art',),\n",
       " ('Sequential Art, Sequential Art',),\n",
       " ('Sequential Art, Sequential Art',),\n",
       " ('Sequential Art, Sequential Art',),\n",
       " ('Sequential Art, Young Adult',),\n",
       " ('Sequential Art, Sequential Art',),\n",
       " ('Sequential Art, Sequential Art',),\n",
       " ('Sequential Art, Sequential Art',),\n",
       " ('Sequential Art, Sequential Art',),\n",
       " ('Sequential Art, Sequential Art',),\n",
       " ('Sequential Art, Autobiography',),\n",
       " ('Sequential Art, Sequential Art',),\n",
       " ('Sequential Art, Sequential Art',),\n",
       " ('Sequential Art, Sequential Art',),\n",
       " ('Sequential Art, Sequential Art',),\n",
       " ('Fantasy, Young Adult',),\n",
       " ('Fantasy, Historical',),\n",
       " ('Fantasy, Young Adult',),\n",
       " ('Fantasy, Young Adult',),\n",
       " ('Fantasy, Classics',),\n",
       " ('Fantasy, Young Adult',),\n",
       " ('Fantasy, Fiction',),\n",
       " ('Fantasy, Fiction',),\n",
       " ('Fantasy, Young Adult',),\n",
       " ('Fantasy, Young Adult',),\n",
       " ('Fantasy, Childrens',),\n",
       " ('Fantasy, Young Adult',),\n",
       " ('Fantasy, Fiction',),\n",
       " ('Young Adult, Fantasy',),\n",
       " ('Fantasy, Young Adult',),\n",
       " ('Fantasy, Classics',),\n",
       " ('Classics, Fiction',),\n",
       " ('Fantasy, Science Fiction',),\n",
       " ('Young Adult, Fantasy',),\n",
       " ('Fantasy, Childrens',),\n",
       " ('Fiction, Young Adult',),\n",
       " ('Fantasy, Fiction',),\n",
       " ('Fantasy, Childrens',),\n",
       " ('Childrens, Fiction',),\n",
       " ('Young Adult, Adventure',),\n",
       " ('Fantasy, Young Adult',),\n",
       " ('Fantasy, Fiction',),\n",
       " ('Fantasy, Young Adult',),\n",
       " ('Fantasy, Young Adult',),\n",
       " ('Fantasy, Young Adult',),\n",
       " ('Young Adult, Fiction',),\n",
       " ('Fantasy, Young Adult',),\n",
       " ('Fantasy, Young Adult',),\n",
       " ('Fantasy, Classics',),\n",
       " ('Fantasy, Young Adult',),\n",
       " ('Fantasy, Young Adult',),\n",
       " ('Classics, Fantasy',),\n",
       " ('Fantasy, Fiction',),\n",
       " ('Fantasy, Fiction',),\n",
       " ('Mystery, Young Adult',),\n",
       " ('Fantasy, Young Adult',),\n",
       " ('Young Adult, Fiction',),\n",
       " ('Young Adult, Science Fiction',),\n",
       " ('Fantasy, Young Adult',),\n",
       " ('Young Adult, Fantasy',),\n",
       " ('Fantasy, Young Adult',),\n",
       " ('Fantasy, Fiction',),\n",
       " ('Fantasy, Young Adult',),\n",
       " ('Fantasy, Young Adult',),\n",
       " ('Young Adult, Contemporary',),\n",
       " ('Lgbt, Young Adult',),\n",
       " ('Lgbt, Young Adult',),\n",
       " ('Young Adult, Lgbt',),\n",
       " ('Young Adult, Lgbt',),\n",
       " ('Young Adult, Mystery',),\n",
       " ('Romance, Young Adult',),\n",
       " ('Lgbt, Young Adult',),\n",
       " ('Lgbt, Romance',),\n",
       " ('Young Adult, Fiction',),\n",
       " ('Young Adult, Fiction',),\n",
       " ('Young Adult, Lgbt',),\n",
       " ('Lgbt, Young Adult',),\n",
       " ('Young Adult, Lgbt',),\n",
       " ('Young Adult, Lgbt',),\n",
       " ('Young Adult, Fantasy',),\n",
       " ('Young Adult, Lgbt',),\n",
       " ('Young Adult, Fiction',),\n",
       " ('Young Adult, Poetry',),\n",
       " ('Young Adult, Contemporary',),\n",
       " ('Young Adult, Fiction',),\n",
       " ('Young Adult, Fiction',),\n",
       " ('Young Adult, Lgbt',),\n",
       " ('Lgbt, Young Adult',),\n",
       " ('Young Adult, Lgbt',),\n",
       " ('Young Adult, Lgbt',),\n",
       " ('Young Adult, Science Fiction',),\n",
       " ('Young Adult, Lgbt',),\n",
       " ('Young Adult, Lgbt',),\n",
       " ('Young Adult, Lgbt',),\n",
       " ('Young Adult, Lgbt',),\n",
       " ('Young Adult, Lgbt',),\n",
       " ('Historical, Young Adult',),\n",
       " ('Lgbt, Young Adult',),\n",
       " ('Young Adult, Lgbt',),\n",
       " ('Historical, Fantasy',),\n",
       " ('Lgbt, Young Adult',),\n",
       " ('Young Adult, Lgbt',),\n",
       " ('Paranormal, Fantasy',),\n",
       " ('Fiction, Magical Realism',),\n",
       " ('Fiction, Cultural',),\n",
       " ('Fantasy, Fiction',),\n",
       " ('Fiction, Romance',),\n",
       " ('Fiction, Magical Realism',),\n",
       " ('Fiction, Magical Realism',),\n",
       " ('Fantasy, Young Adult',),\n",
       " ('Fiction, Short Stories',),\n",
       " ('Fiction, Cultural',),\n",
       " ('Fiction, Short Stories',),\n",
       " ('Fiction, Fantasy',),\n",
       " ('Fiction, Mystery',),\n",
       " ('Fiction, Magical Realism',),\n",
       " ('Fiction, Fantasy',),\n",
       " ('Fiction, Cultural',),\n",
       " ('Fiction, Magical Realism',),\n",
       " ('Fantasy, Historical',),\n",
       " ('Fiction, Magical Realism',),\n",
       " ('Fiction, Classics',),\n",
       " ('Fiction, Historical',),\n",
       " ('Fiction, Sports',),\n",
       " ('Fiction, Classics',),\n",
       " ('Fiction, Magical Realism',),\n",
       " ('Fiction, Fantasy',),\n",
       " ('Historical, Fiction',),\n",
       " ('Fiction, Magical Realism',),\n",
       " ('Fiction, Mystery',),\n",
       " ('Fiction, Classics',),\n",
       " ('Young Adult, Fantasy',),\n",
       " ('Fiction, Magical Realism',),\n",
       " ('Fiction, Historical',),\n",
       " ('Fiction, Humor',),\n",
       " ('Fiction, Classics',),\n",
       " ('Fiction, Historical',),\n",
       " ('Fiction, Magical Realism',),\n",
       " ('Fiction, Classics',),\n",
       " ('Fantasy, Fiction',),\n",
       " ('Fantasy, Historical',),\n",
       " ('Fiction, Contemporary',),\n",
       " ('Fiction, Fantasy',),\n",
       " ('Fiction, Fantasy',),\n",
       " ('Horror, Fantasy',),\n",
       " ('Fiction, Historical',),\n",
       " ('Fiction, Magical Realism',),\n",
       " ('Fiction, Short Stories',),\n",
       " ('Fantasy, Fiction',),\n",
       " ('Fiction, Classics',),\n",
       " ('Fiction, Romance',),\n",
       " ('Romance, Romance',),\n",
       " ('Historical, Romance',),\n",
       " ('Romance, Dark',),\n",
       " ('Romance, New Adult',),\n",
       " ('Romance, Dark',),\n",
       " ('Romance, Romance',),\n",
       " ('Romance, Contemporary',),\n",
       " ('Romance, New Adult',),\n",
       " ('Romance, Romance',),\n",
       " ('Fantasy, Fantasy',),\n",
       " ('Romance, Contemporary',),\n",
       " ('Romance, New Adult',),\n",
       " ('Sports and Games, Romance',),\n",
       " ('Romance, New Adult',),\n",
       " ('War, New Adult',),\n",
       " ('Romance, New Adult',),\n",
       " ('Romance, New Adult',),\n",
       " ('Romance, Romance',),\n",
       " ('Romance, Romance',),\n",
       " ('Romance, Suspense',),\n",
       " ('Romance, Contemporary',),\n",
       " ('Romance, Romance',),\n",
       " ('Romance, Sports and Games',),\n",
       " ('Romance, Contemporary',),\n",
       " ('Romance, Romance',),\n",
       " ('Romance, Sports and Games',),\n",
       " ('Romance, Contemporary',),\n",
       " ('New Adult, Romance',),\n",
       " ('Romance, Sports and Games',),\n",
       " ('Romance, New Adult',),\n",
       " ('Romance, New Adult',),\n",
       " ('War, Romance',),\n",
       " ('Romance, Contemporary',),\n",
       " ('Romance, New Adult',),\n",
       " ('Dark, Romance',),\n",
       " ('Romance, Dark',),\n",
       " ('Romance, New Adult',),\n",
       " ('New Adult, Romance',),\n",
       " ('Romance, Sports and Games',),\n",
       " ('Romance, Romance',),\n",
       " ('Romance, Romance',),\n",
       " ('Young Adult, Fiction',),\n",
       " ('Classics, Fiction',),\n",
       " ('Classics, Fiction',),\n",
       " ('Classics, Fiction',),\n",
       " ('Classics, Fiction',),\n",
       " ('Classics, Fiction',),\n",
       " ('Classics, Fiction',),\n",
       " ('Classics, Poetry',),\n",
       " ('Historical, Fiction',),\n",
       " ('Mystery, Young Adult',),\n",
       " ('Classics, Fiction',),\n",
       " ('Fiction, Classics',),\n",
       " ('Nonfiction, Autobiography',),\n",
       " ('Fiction, Historical',),\n",
       " ('Classics, Fiction',),\n",
       " ('Classics, Fiction',),\n",
       " ('Classics, Fiction',),\n",
       " ('Classics, Fiction',),\n",
       " ('Fiction, Historical',),\n",
       " ('Science Fiction, Fiction',),\n",
       " ('Classics, Plays',),\n",
       " ('Historical, Romance',),\n",
       " ('Fiction, Classics',),\n",
       " ('Classics, Fiction',),\n",
       " ('Classics, Fiction',),\n",
       " ('Classics, Fiction',),\n",
       " ('Classics, Fiction',),\n",
       " ('Fiction, Christian',),\n",
       " ('Fantasy, Young Adult',),\n",
       " ('Classics, Fiction',),\n",
       " ('Classics, Fiction',),\n",
       " ('Classics, Fiction',),\n",
       " ('Historical, Fiction',),\n",
       " ('Historical, Young Adult',),\n",
       " ('Fiction, Historical',),\n",
       " ('Fiction, Mystery',),\n",
       " ('Fiction, Classics',),\n",
       " ('Classics, Fiction',),\n",
       " ('Fiction, Classics',),\n",
       " ('Classics, Fiction',),\n",
       " ('Fiction, Historical',),\n",
       " ('Fiction, Mystery',),\n",
       " ('Classics, Fiction',),\n",
       " ('Classics, Fiction',),\n",
       " ('Classics, Plays',),\n",
       " ('Historical, Fiction',),\n",
       " ('Classics, Fiction',),\n",
       " ('Nonfiction, Classics',),\n",
       " ('Classics, Fiction',),\n",
       " ('Classics, Fiction',),\n",
       " ('Classics, Fiction',),\n",
       " ('Nonfiction, Classics',),\n",
       " ('Classics, Young Adult',),\n",
       " ('Classics, Fiction',),\n",
       " ('Classics, Fiction',),\n",
       " ('Classics, Mystery',),\n",
       " ('Mystery, Historical',),\n",
       " ('Fiction, Historical',),\n",
       " ('Mystery, Historical',),\n",
       " ('Historical, Mystery',),\n",
       " ('Historical, Fiction',),\n",
       " ('Historical, Fiction',),\n",
       " ('Mystery, Historical',),\n",
       " ('Mystery, Historical',),\n",
       " ('Mystery, Historical',),\n",
       " ('Historical, Historical',),\n",
       " ('Mystery, Fiction',),\n",
       " ('Mystery, Fiction',),\n",
       " ('Historical, Fiction',),\n",
       " ('Historical, Thriller',),\n",
       " ('Mystery, Historical',),\n",
       " ('Fiction, Mystery',),\n",
       " ('Mystery, Historical',),\n",
       " ('Mystery, Historical',),\n",
       " ('Mystery, Fiction',),\n",
       " ('Historical, Christian Fiction',),\n",
       " ('Mystery, Historical',),\n",
       " ('Mystery, Historical',),\n",
       " ('Fiction, Historical',),\n",
       " ('Historical, Mystery',),\n",
       " ('Mystery, Historical',),\n",
       " ('Historical, Mystery',),\n",
       " ('Historical, Mystery',),\n",
       " ('Mystery, Historical',),\n",
       " ('Historical, Mystery',),\n",
       " ('Romance, Historical',),\n",
       " ('Historical, Mystery',),\n",
       " ('Historical, Fiction',),\n",
       " ('Mystery, Historical',),\n",
       " ('Historical, Fiction',),\n",
       " ('Mystery, Historical',),\n",
       " ('Mystery, Historical',),\n",
       " ('Historical, Fiction',),\n",
       " ('Mystery, Fiction',),\n",
       " ('Historical, Fiction',),\n",
       " ('Fiction, Historical',),\n",
       " ('Mystery, Historical',),\n",
       " ('Mystery, Historical',),\n",
       " ('Mystery, Historical',),\n",
       " ('Historical, Mystery',),\n",
       " ('Mystery, Fiction',),\n",
       " ('Fiction, Historical',),\n",
       " ('Mystery, Historical',),\n",
       " ('Fiction, Mystery',),\n",
       " ('Fiction, Historical',),\n",
       " ('Fantasy, Animals',),\n",
       " ('Romance, Romance',),\n",
       " ('Historical, Fiction',),\n",
       " ('Romance, See top shelves…',),\n",
       " ('War, Adult Fiction',),\n",
       " ('Fiction, Cultural',),\n",
       " ('Fiction, Classics',),\n",
       " ('Fiction, Classics',),\n",
       " ('Fiction, Classics',),\n",
       " ('Nonfiction, Politics',),\n",
       " ('Fiction, Cultural',),\n",
       " ('History, Biography',),\n",
       " ('Nonfiction, Food and Drink',),\n",
       " ('Fiction, Contemporary',),\n",
       " ('Horror, Fiction',),\n",
       " ('Fiction, Contemporary',),\n",
       " ('Fiction, Cultural',),\n",
       " ('Fiction, Historical',),\n",
       " ('Fiction, Historical',),\n",
       " ('Fiction, Contemporary',),\n",
       " ('Nonfiction, Economics',),\n",
       " ('Fiction, Science Fiction',),\n",
       " ('Historical, Fiction',),\n",
       " ('Fiction, Historical',),\n",
       " ('Nonfiction, History',),\n",
       " ('Fiction, Contemporary',),\n",
       " ('Fiction, Historical',),\n",
       " ('Historical, Childrens',),\n",
       " ('Historical, Fiction',),\n",
       " ('Historical, Fiction',),\n",
       " ('Historical, Fiction',),\n",
       " ('Historical, Fiction',),\n",
       " ('Historical, Fiction',),\n",
       " ('Historical, Fiction',),\n",
       " ('Historical, Childrens',),\n",
       " ('Fiction, Historical',),\n",
       " ('Historical, Fiction',),\n",
       " ('Historical, Fiction',),\n",
       " ('Fiction, Classics',),\n",
       " ('Historical, Fiction',),\n",
       " ('Historical, Fiction',),\n",
       " ('Historical, Fiction',),\n",
       " ('Historical, Fiction',),\n",
       " ('Historical, Fiction',),\n",
       " ('Historical, Fiction',),\n",
       " ('Fantasy, Fiction',),\n",
       " ('Classics, Historical',),\n",
       " ('Historical, Fiction',),\n",
       " ('Historical, Fiction',),\n",
       " ('Historical, Fiction',),\n",
       " ('Fiction, Historical',),\n",
       " ('Historical, Fiction',),\n",
       " ('Historical, Fiction',),\n",
       " ('Classics, Historical',),\n",
       " ('Historical, Fiction',),\n",
       " ('Historical, Fiction',),\n",
       " ('Fiction, Historical',),\n",
       " ('Historical, Fiction',),\n",
       " ('Classics, Fiction',),\n",
       " ('Historical, Fiction',),\n",
       " ('Fiction, Historical',),\n",
       " ('Historical, Fiction',),\n",
       " ('Classics, Fiction',),\n",
       " ('Classics, Fiction',),\n",
       " ('Classics, Fiction',),\n",
       " ('Classics, Fiction',),\n",
       " ('Childrens, Childrens',),\n",
       " ('Classics, Fiction',),\n",
       " ('Classics, Fiction',),\n",
       " ('Childrens, Childrens',),\n",
       " ('Childrens, Childrens',),\n",
       " ('Classics, Fiction',),\n",
       " ('Classics, Fantasy',),\n",
       " ('Childrens, Childrens',),\n",
       " ('Young Adult, Fiction',),\n",
       " ('Young Adult, Romance',),\n",
       " ('Fiction, Childrens',),\n",
       " ('Childrens, Classics',),\n",
       " ('Young Adult, Fiction',),\n",
       " ('Fantasy, Fiction',),\n",
       " ('Classics, Fiction',),\n",
       " ('Paranormal, Young Adult',),\n",
       " ('Historical, Young Adult',),\n",
       " ('Young Adult, Science Fiction',),\n",
       " ('Fiction, Feminism',),\n",
       " ('Fiction, European Literature',),\n",
       " ('Horror, Fiction',),\n",
       " ('Historical, Young Adult',),\n",
       " ('Fiction, Thriller',),\n",
       " ('Historical, Fiction',),\n",
       " ('Fiction, Classics',),\n",
       " ('Science Fiction, Fiction',),\n",
       " ('Nonfiction, Crime',),\n",
       " ('Fantasy, Fiction',),\n",
       " ('Fiction, Historical',),\n",
       " ('Childrens, Childrens',),\n",
       " ('Nonfiction, History',),\n",
       " ('Young Adult, Fantasy',),\n",
       " ('Fiction, Historical',),\n",
       " ('Childrens, Fiction',),\n",
       " ('Fiction, Classics',),\n",
       " ('Childrens, Fiction',),\n",
       " ('Philosophy, Nonfiction',),\n",
       " ('History, Nonfiction',),\n",
       " ('Fiction, European Literature',),\n",
       " ('Poetry, Classics',),\n",
       " ('Childrens, Childrens',),\n",
       " ('Fiction, Classics',),\n",
       " ('Humor, Nonfiction',),\n",
       " ('Fiction, Thriller',),\n",
       " ('History, Nonfiction',),\n",
       " ('Nonfiction, History',),\n",
       " ('Historical, Fiction',),\n",
       " ('Nonfiction, Writing',),\n",
       " ('Fiction, Historical',),\n",
       " ('Fiction, Classics',),\n",
       " ('Nonfiction, Crime',),\n",
       " ('Fiction, Mystery',),\n",
       " ('Philosophy, Fiction',),\n",
       " ('Horror, Fiction',),\n",
       " ('History, Nonfiction',),\n",
       " ('Fiction, Classics',),\n",
       " ('Young Adult, Science Fiction',),\n",
       " ('Paranormal, Young Adult',),\n",
       " ('Fantasy, Paranormal',),\n",
       " ('Mystery, Sports and Games',),\n",
       " ('Young Adult, Young Adult',),\n",
       " ('Fantasy, Paranormal',),\n",
       " ('Young Adult, Historical',),\n",
       " ('Paranormal, Fantasy',),\n",
       " ('Fantasy, See top shelves…',),\n",
       " ('Fantasy, Fantasy',),\n",
       " ('Fantasy, Young Adult',),\n",
       " ('Christian, See top shelves…',),\n",
       " ('Fantasy, Young Adult',),\n",
       " ('Fantasy, Romance',),\n",
       " ('Paranormal, Young Adult',),\n",
       " ('Fantasy, Fantasy',),\n",
       " ('Young Adult, Science Fiction',),\n",
       " ('Young Adult, Mystery',),\n",
       " ('Fantasy, Young Adult',),\n",
       " ('Romance, Young Adult',),\n",
       " ('Fantasy, Fantasy',),\n",
       " ('Fantasy, Fantasy',),\n",
       " ('Paranormal, Young Adult',),\n",
       " ('Fantasy, Young Adult',),\n",
       " ('Fantasy, Romance',),\n",
       " ('Fantasy, Romance',),\n",
       " ('Paranormal, See top shelves…',),\n",
       " ('Young Adult, Science Fiction',),\n",
       " ('Mystery, Fantasy',),\n",
       " ('Young Adult, Fantasy',),\n",
       " ...]"
      ]
     },
     "execution_count": 224,
     "metadata": {},
     "output_type": "execute_result"
    }
   ],
   "source": [
    "#4. combining columns genre_1 and genre_2 into one column\n",
    "c.execute(\"SELECT genre_1 || ', ' || genre_2 AS genres FROM author_info\")\n",
    "c.fetchall()"
   ]
  },
  {
   "cell_type": "code",
   "execution_count": 225,
   "id": "eab92d54",
   "metadata": {},
   "outputs": [],
   "source": [
    "con.commit()"
   ]
  },
  {
   "cell_type": "code",
   "execution_count": 226,
   "id": "07e9ed61",
   "metadata": {},
   "outputs": [],
   "source": [
    "con.close()"
   ]
  },
  {
   "cell_type": "code",
   "execution_count": 108,
   "id": "137e3a94",
   "metadata": {},
   "outputs": [],
   "source": [
    "### graphs & plots"
   ]
  },
  {
   "cell_type": "code",
   "execution_count": 147,
   "id": "e780ef82",
   "metadata": {},
   "outputs": [],
   "source": [
    "import matplotlib.pyplot as plt\n",
    "%matplotlib inline\n",
    "import seaborn as sns"
   ]
  },
  {
   "cell_type": "code",
   "execution_count": 189,
   "id": "b2110656",
   "metadata": {},
   "outputs": [
    {
     "name": "stderr",
     "output_type": "stream",
     "text": [
      "/Users/mariaceremisinova/opt/anaconda3/lib/python3.9/site-packages/seaborn/distributions.py:2619: FutureWarning: `distplot` is a deprecated function and will be removed in a future version. Please adapt your code to use either `displot` (a figure-level function with similar flexibility) or `histplot` (an axes-level function for histograms).\n",
      "  warnings.warn(msg, FutureWarning)\n"
     ]
    },
    {
     "data": {
      "image/png": "[encoded data removed]",
      "text/plain": [
       "<Figure size 720x360 with 1 Axes>"
      ]
     },
     "metadata": {
      "needs_background": "light"
     },
     "output_type": "display_data"
    }
   ],
   "source": [
    "plt.figure(figsize=(10, 5)) #1. histogram of book ratings. we can see that the average rating is 4. And most reviews range from 3 to 5 approximately.\n",
    "sns.distplot(df2['average_rating'], bins=17, color='pink')\n",
    "plt.title('Distribution of book ratings')\n",
    "plt.ylabel('%')\n",
    "plt.xlabel('Rating');"
   ]
  },
  {
   "cell_type": "code",
   "execution_count": 190,
   "id": "a52184c2",
   "metadata": {},
   "outputs": [
    {
     "data": {
      "image/png": "[encoded data removed]",
      "text/plain": [
       "<Figure size 432x288 with 1 Axes>"
      ]
     },
     "metadata": {
      "needs_background": "light"
     },
     "output_type": "display_data"
    }
   ],
   "source": [
    "#2. I also wanted to create a scatter plot in order to see whether the number of reviews has any influence on the rating itself.\n",
    "#It often seems that popular books tend to have lower ratings (since itʼs impossible for everyone to love a book).\n",
    "#The plot shows that indeed for most popular books (most reviewed) range from 3.5 to 4.5.\n",
    "#Books with rating lower than 3.5 and higher than 4.5 have less reviews.\n",
    "#Naturally, the overall distribution resembles the previous plot.\n",
    "plt.scatter(df2[\"average_rating\"], df2[\"text_reviews_count\"], color='blue', label='number of reviews') # num of reviews\n",
    "\n",
    "plt.title('Does number of text reviews influence the rating of a book?')\n",
    "plt.ylabel('Number of text reviews')\n",
    "plt.xlabel('Book rating')\n",
    "plt.legend(loc='best')\n",
    "plt.show()"
   ]
  },
  {
   "cell_type": "code",
   "execution_count": 196,
   "id": "42a995b2",
   "metadata": {},
   "outputs": [],
   "source": [
    "#3. other data that would be interesting to look at: what are the most popular genres that people write in?\n",
    "#and whether this distribution is different for male and female writers"
   ]
  },
  {
   "cell_type": "code",
   "execution_count": 312,
   "id": "8b946dc4",
   "metadata": {},
   "outputs": [],
   "source": [
    "df_m = df[df['author_gender'] == \"male\"]\n",
    "df_f = df[df['author_gender'] == \"female\"]"
   ]
  },
  {
   "cell_type": "code",
   "execution_count": 280,
   "id": "da304628",
   "metadata": {},
   "outputs": [],
   "source": [
    "#There are too many genres to try to display all.\n",
    "#plt.figure(figsize=(10, 5))\n",
    "#df_m['genre_1'].value_counts().plot(kind='pie');\n",
    "#plt.title('Genres');"
   ]
  },
  {
   "cell_type": "code",
   "execution_count": 330,
   "id": "ace8b64e",
   "metadata": {},
   "outputs": [],
   "source": [
    "df_m2 = df_m['genre_1'].value_counts()\n",
    "df_m2 = df_m2.sort_values(ascending = False)\n",
    "m = df_m2[:9]\n",
    "#df_m2[5:].sum()"
   ]
  },
  {
   "cell_type": "code",
   "execution_count": 331,
   "id": "d115f67f",
   "metadata": {},
   "outputs": [],
   "source": [
    "other_m = pd.Series([df_m2[9:].sum()], index=[\"Other\"])#creating a separate part of pie for other genres"
   ]
  },
  {
   "cell_type": "code",
   "execution_count": 332,
   "id": "104d46e4",
   "metadata": {},
   "outputs": [],
   "source": [
    "m = pd.concat([m, other_m])\n",
    "#m"
   ]
  },
  {
   "cell_type": "code",
   "execution_count": 334,
   "id": "f831e797",
   "metadata": {},
   "outputs": [
    {
     "data": {
      "text/plain": [
       "Text(0, 0.5, '')"
      ]
     },
     "execution_count": 334,
     "metadata": {},
     "output_type": "execute_result"
    },
    {
     "data": {
      "image/png": "[encoded data removed]",
      "text/plain": [
       "<Figure size 864x432 with 1 Axes>"
      ]
     },
     "metadata": {},
     "output_type": "display_data"
    }
   ],
   "source": [
    "plt.figure(figsize=(12, 6))#genres in which men mostly write\n",
    "m.plot(kind='pie');\n",
    "plt.title('Top 10 genres used by male writers');\n",
    "plt.legend(loc='best', bbox_to_anchor=(0.1, 0.1))\n",
    "plt.ylabel('')"
   ]
  },
  {
   "cell_type": "code",
   "execution_count": 335,
   "id": "ba836886",
   "metadata": {},
   "outputs": [],
   "source": [
    "df_f2 = df_f['genre_1'].value_counts()\n",
    "df_f2 = df_f2.sort_values(ascending = False)\n",
    "f = df_f2[:9]\n",
    "#df_f2[5:].sum()"
   ]
  },
  {
   "cell_type": "code",
   "execution_count": 336,
   "id": "3f45269e",
   "metadata": {},
   "outputs": [],
   "source": [
    "other_f = pd.Series([df_f2[9:].sum()], index=[\"Other\"])#creating a separate part of pie for other genres"
   ]
  },
  {
   "cell_type": "code",
   "execution_count": 337,
   "id": "11fffb94",
   "metadata": {},
   "outputs": [],
   "source": [
    "f = pd.concat([f, other_f])\n",
    "#f"
   ]
  },
  {
   "cell_type": "code",
   "execution_count": 339,
   "id": "76c1fd17",
   "metadata": {},
   "outputs": [
    {
     "data": {
      "text/plain": [
       "Text(0, 0.5, '')"
      ]
     },
     "execution_count": 339,
     "metadata": {},
     "output_type": "execute_result"
    },
    {
     "data": {
      "image/png": "[encoded data removed]",
      "text/plain": [
       "<Figure size 864x432 with 1 Axes>"
      ]
     },
     "metadata": {},
     "output_type": "display_data"
    }
   ],
   "source": [
    "plt.figure(figsize=(12, 6))#genres in which women mostly write\n",
    "f.plot(kind='pie');\n",
    "plt.title('Top 10 genres used by female writers');\n",
    "plt.legend(loc='best', bbox_to_anchor=(0.1, 0.1))\n",
    "plt.ylabel('')\n",
    "#As we can see, the genres for men and women are different. The top 3 genres that men write in are: 1) fantasy,\n",
    "#2) fiction, 3) romance, while for women they are: 1) romance, 2) fantasy, 3) young adult.\n",
    "#Nonfiction and science fiction are written by men and women approximately equally.\n",
    "#Also, this simple representation shows that classics are written mostly by men\n",
    "#(female writers are more rarely considered to be classic writers)."
   ]
  },
  {
   "cell_type": "code",
   "execution_count": 227,
   "id": "6c2f9129",
   "metadata": {},
   "outputs": [],
   "source": [
    "##morphological parising with nltk"
   ]
  },
  {
   "cell_type": "code",
   "execution_count": 228,
   "id": "f6024966",
   "metadata": {},
   "outputs": [
    {
     "name": "stderr",
     "output_type": "stream",
     "text": [
      "[nltk_data] Downloading package punkt to\n",
      "[nltk_data]     /Users/mariaceremisinova/nltk_data...\n",
      "[nltk_data]   Package punkt is already up-to-date!\n",
      "[nltk_data] Downloading package averaged_perceptron_tagger to\n",
      "[nltk_data]     /Users/mariaceremisinova/nltk_data...\n",
      "[nltk_data]   Package averaged_perceptron_tagger is already up-to-\n",
      "[nltk_data]       date!\n"
     ]
    },
    {
     "data": {
      "text/plain": [
       "True"
      ]
     },
     "execution_count": 228,
     "metadata": {},
     "output_type": "execute_result"
    }
   ],
   "source": [
    "import nltk\n",
    "nltk.download('punkt')\n",
    "nltk.download('averaged_perceptron_tagger')"
   ]
  },
  {
   "cell_type": "code",
   "execution_count": 229,
   "id": "df51d9e5",
   "metadata": {},
   "outputs": [
    {
     "name": "stderr",
     "output_type": "stream",
     "text": [
      "[nltk_data] Downloading package stopwords to\n",
      "[nltk_data]     /Users/mariaceremisinova/nltk_data...\n",
      "[nltk_data]   Package stopwords is already up-to-date!\n"
     ]
    },
    {
     "data": {
      "text/plain": [
       "True"
      ]
     },
     "execution_count": 229,
     "metadata": {},
     "output_type": "execute_result"
    }
   ],
   "source": [
    "nltk.download('stopwords')"
   ]
  },
  {
   "cell_type": "code",
   "execution_count": 230,
   "id": "551ee9f0",
   "metadata": {},
   "outputs": [
    {
     "name": "stderr",
     "output_type": "stream",
     "text": [
      "[nltk_data] Downloading package universal_tagset to\n",
      "[nltk_data]     /Users/mariaceremisinova/nltk_data...\n",
      "[nltk_data]   Package universal_tagset is already up-to-date!\n"
     ]
    },
    {
     "data": {
      "text/plain": [
       "True"
      ]
     },
     "execution_count": 230,
     "metadata": {},
     "output_type": "execute_result"
    }
   ],
   "source": [
    "nltk.download('universal_tagset')"
   ]
  },
  {
   "cell_type": "code",
   "execution_count": 233,
   "id": "7f2a59d0",
   "metadata": {},
   "outputs": [],
   "source": [
    "from nltk.corpus import stopwords"
   ]
  },
  {
   "cell_type": "code",
   "execution_count": 234,
   "id": "c9a493a5",
   "metadata": {},
   "outputs": [],
   "source": [
    "import re"
   ]
  },
  {
   "cell_type": "code",
   "execution_count": 231,
   "id": "9c15026e",
   "metadata": {},
   "outputs": [],
   "source": [
    "sw = nltk.corpus.stopwords.words('english')"
   ]
  },
  {
   "cell_type": "code",
   "execution_count": 232,
   "id": "d6b9751f",
   "metadata": {},
   "outputs": [],
   "source": [
    "def pos_tagging(text):\n",
    "    tokens = nltk.word_tokenize(text)\n",
    "    tokens = [w for w in tokens if not w in sw]\n",
    "    tagged = nltk.pos_tag(tokens, tagset='universal')\n",
    "    return tagged"
   ]
  },
  {
   "cell_type": "code",
   "execution_count": 176,
   "id": "3c4eba5f",
   "metadata": {},
   "outputs": [],
   "source": [
    "##counting POS used in book titles. Probably the most frequent POS in titles is noun.\n",
    "## Are adjectives used more often than verbs? Are adverbs used at all?"
   ]
  },
  {
   "cell_type": "code",
   "execution_count": 171,
   "id": "f80ea492",
   "metadata": {},
   "outputs": [],
   "source": [
    "titles_tagged = pos_tagging(titles_list)#this list was created earlier (also used for spacy tagging)\n",
    "#titles_tagged[:10]"
   ]
  },
  {
   "cell_type": "code",
   "execution_count": 172,
   "id": "0126fb5e",
   "metadata": {},
   "outputs": [
    {
     "data": {
      "text/plain": [
       "list"
      ]
     },
     "execution_count": 172,
     "metadata": {},
     "output_type": "execute_result"
    }
   ],
   "source": [
    "tag_fd = nltk.FreqDist(tag for (word, tag) in titles_tagged)\n",
    "df_pos = tag_fd.most_common()\n",
    "type(df_pos)"
   ]
  },
  {
   "cell_type": "code",
   "execution_count": 173,
   "id": "4d388886",
   "metadata": {},
   "outputs": [
    {
     "data": {
      "text/html": [
       "<div>\n",
       "<style scoped>\n",
       "    .dataframe tbody tr th:only-of-type {\n",
       "        vertical-align: middle;\n",
       "    }\n",
       "\n",
       "    .dataframe tbody tr th {\n",
       "        vertical-align: top;\n",
       "    }\n",
       "\n",
       "    .dataframe thead th {\n",
       "        text-align: right;\n",
       "    }\n",
       "</style>\n",
       "<table border=\"1\" class=\"dataframe\">\n",
       "  <thead>\n",
       "    <tr style=\"text-align: right;\">\n",
       "      <th></th>\n",
       "      <th>POS</th>\n",
       "      <th>total</th>\n",
       "    </tr>\n",
       "  </thead>\n",
       "  <tbody>\n",
       "    <tr>\n",
       "      <th>0</th>\n",
       "      <td>NOUN</td>\n",
       "      <td>42916</td>\n",
       "    </tr>\n",
       "    <tr>\n",
       "      <th>1</th>\n",
       "      <td>DET</td>\n",
       "      <td>4587</td>\n",
       "    </tr>\n",
       "    <tr>\n",
       "      <th>2</th>\n",
       "      <td>NUM</td>\n",
       "      <td>3577</td>\n",
       "    </tr>\n",
       "    <tr>\n",
       "      <th>3</th>\n",
       "      <td>VERB</td>\n",
       "      <td>1382</td>\n",
       "    </tr>\n",
       "    <tr>\n",
       "      <th>4</th>\n",
       "      <td>ADP</td>\n",
       "      <td>834</td>\n",
       "    </tr>\n",
       "    <tr>\n",
       "      <th>5</th>\n",
       "      <td>ADJ</td>\n",
       "      <td>748</td>\n",
       "    </tr>\n",
       "    <tr>\n",
       "      <th>6</th>\n",
       "      <td>PRON</td>\n",
       "      <td>710</td>\n",
       "    </tr>\n",
       "    <tr>\n",
       "      <th>7</th>\n",
       "      <td>X</td>\n",
       "      <td>251</td>\n",
       "    </tr>\n",
       "    <tr>\n",
       "      <th>8</th>\n",
       "      <td>ADV</td>\n",
       "      <td>247</td>\n",
       "    </tr>\n",
       "    <tr>\n",
       "      <th>9</th>\n",
       "      <td>PRT</td>\n",
       "      <td>79</td>\n",
       "    </tr>\n",
       "  </tbody>\n",
       "</table>\n",
       "</div>"
      ],
      "text/plain": [
       "    POS  total\n",
       "0  NOUN  42916\n",
       "1   DET   4587\n",
       "2   NUM   3577\n",
       "3  VERB   1382\n",
       "4   ADP    834\n",
       "5   ADJ    748\n",
       "6  PRON    710\n",
       "7     X    251\n",
       "8   ADV    247\n",
       "9   PRT     79"
      ]
     },
     "execution_count": 173,
     "metadata": {},
     "output_type": "execute_result"
    }
   ],
   "source": [
    "poss = pd.DataFrame(df_pos, columns =['POS', 'total'])\n",
    "poss[:10]"
   ]
  },
  {
   "cell_type": "code",
   "execution_count": 174,
   "id": "66b55ec9",
   "metadata": {},
   "outputs": [
    {
     "data": {
      "image/png": "[encoded data removed]",
      "text/plain": [
       "<Figure size 432x288 with 1 Axes>"
      ]
     },
     "metadata": {
      "needs_background": "light"
     },
     "output_type": "display_data"
    }
   ],
   "source": [
    "#4. bar plot about POS in titles\n",
    "poss[:10].plot.bar(x='POS', rot=0, color='orange');\n",
    "plt.title(' Top10 parts of speech in book titles')\n",
    "plt.xlabel('pos')\n",
    "plt.ylabel('number of entries');"
   ]
  },
  {
   "cell_type": "code",
   "execution_count": 178,
   "id": "4624e49b",
   "metadata": {},
   "outputs": [],
   "source": [
    "#Indeed, nouns are the most frequent POS in book titles.\n",
    "# Next, we have Determiners and numerals. Interestingly, verbs are more frequent than adjectives.\n",
    "#Adverbs are infrequent but present in the sample."
   ]
  },
  {
   "cell_type": "code",
   "execution_count": 258,
   "id": "0d0f1c59",
   "metadata": {},
   "outputs": [],
   "source": [
    "###Final project thoughts\n",
    "###Со своими полевыми данными у меня ничего не придумывается (там и парсинг не нужен, да и нет таких данных, чтобы можно было гипотезы проверять статистически или еще как-то).\n",
    "### Я пока подумала, что, наверное, выберу опцию 2.\n",
    "### И, наверное, хочу про interactive plots. (или clustering)"
   ]
  }
 ],
 "metadata": {
  "kernelspec": {
   "display_name": "Python 3 (ipykernel)",
   "language": "python",
   "name": "python3"
  },
  "language_info": {
   "codemirror_mode": {
    "name": "ipython",
    "version": 3
   },
   "file_extension": ".py",
   "mimetype": "text/x-python",
   "name": "python",
   "nbconvert_exporter": "python",
   "pygments_lexer": "ipython3",
   "version": "3.9.12"
  }
 },
 "nbformat": 4,
 "nbformat_minor": 5
}
